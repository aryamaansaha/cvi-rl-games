{
 "cells": [
  {
   "cell_type": "markdown",
   "metadata": {},
   "source": [
    "# Dueling Deep Q Network"
   ]
  },
  {
   "cell_type": "code",
   "execution_count": 2,
   "metadata": {},
   "outputs": [
    {
     "name": "stdout",
     "output_type": "stream",
     "text": [
      "Using cuda:0\n"
     ]
    }
   ],
   "source": [
    "import gym\n",
    "import os\n",
    "from collections import deque, namedtuple\n",
    "import numpy as np\n",
    "import pandas as pd\n",
    "import matplotlib.pyplot as plt\n",
    "import random\n",
    "import torch\n",
    "import torch.nn as nn\n",
    "import torch.nn.functional as F\n",
    "from time import sleep\n",
    "\n",
    "device = torch.device(\"cuda:0\" if torch.cuda.is_available() else \"cpu\")\n",
    "print(\"Using\", device)"
   ]
  },
  {
   "cell_type": "markdown",
   "metadata": {},
   "source": [
    "### Untrained agent without Reinforcement Learning"
   ]
  },
  {
   "cell_type": "code",
   "execution_count": 3,
   "metadata": {},
   "outputs": [
    {
     "name": "stdout",
     "output_type": "stream",
     "text": [
      "Box(-28.274333953857422, 28.274333953857422, (6,), float32)\n",
      "Discrete(3)\n"
     ]
    }
   ],
   "source": [
    "env = gym.make('Acrobot-v1')\n",
    "print(env.observation_space)\n",
    "print(env.action_space)"
   ]
  },
  {
   "cell_type": "code",
   "execution_count": 4,
   "metadata": {},
   "outputs": [
    {
     "name": "stdout",
     "output_type": "stream",
     "text": [
      "Episode 0 | Score: -500.0\n",
      "Episode 1 | Score: -500.0\n",
      "Episode 2 | Score: -500.0\n",
      "Episode 3 | Score: -500.0\n",
      "Episode 4 | Score: -500.0\n"
     ]
    }
   ],
   "source": [
    "for i in range(5):\n",
    "    state = env.reset()\n",
    "    score = 0\n",
    "    done = False\n",
    "    while not done:\n",
    "        env.render()\n",
    "        sleep(0.01)\n",
    "        action = env.action_space.sample()\n",
    "        state_, reward, done, _ = env.step(action)\n",
    "        score += reward\n",
    "        state = state_\n",
    "    print(f'Episode {i} | Score: {score}')\n",
    "env.close()"
   ]
  },
  {
   "cell_type": "markdown",
   "metadata": {},
   "source": [
    "## Building the Dueling Deep Q Network"
   ]
  },
  {
   "cell_type": "markdown",
   "metadata": {},
   "source": [
    "The Artificial Neural Network (ANN) takes states as input and outputs Q values of the actions via two streams - Value stream (value of a state) and Advantage stream (relative advantage of an action over other actions given a state)"
   ]
  },
  {
   "cell_type": "code",
   "execution_count": 5,
   "metadata": {},
   "outputs": [],
   "source": [
    "class DuelingDQN(nn.Module):\n",
    "    def __init__(self, state_size, n_actions, lr, save_path, fc1_dims=64, fc2_dims=128, fc3_dims=64):\n",
    "        super(DuelingDQN, self).__init__()\n",
    "\n",
    "        self.fc1 = nn.Linear(state_size[0], fc1_dims)\n",
    "        self.fc2 = nn.Linear(fc1_dims, fc2_dims)\n",
    "        self.fc3 = nn.Linear(fc2_dims, fc3_dims)\n",
    "        self.V = nn.Linear(fc3_dims, 1)\n",
    "        self.A = nn.Linear(fc3_dims, n_actions)\n",
    "        \n",
    "        self.optimizer = torch.optim.Adam(self.parameters(), lr=lr)\n",
    "        self.loss_fn = nn.MSELoss()\n",
    "        self.save_path = os.path.join(save_path)\n",
    "    def save_model_checkpoint(self):\n",
    "        torch.save(self.state_dict(), self.save_path)\n",
    "    \n",
    "    def load_model_checkpoint(self):\n",
    "        print('Loading from ->',self.save_path)\n",
    "        self.load_state_dict(torch.load(self.save_path))\n",
    "        \n",
    "    def forward(self, state):\n",
    "        x = F.relu(self.fc1(state))\n",
    "        x = F.relu(self.fc2(x))\n",
    "        x = F.relu(self.fc3(x))\n",
    "        v = self.V(x)\n",
    "        a = self.A(x)\n",
    "        Qvalues_actions = torch.add(v, a - a.mean(dim=1, keepdim=True))\n",
    "\n",
    "        return Qvalues_actions\n",
    "    "
   ]
  },
  {
   "cell_type": "markdown",
   "metadata": {},
   "source": [
    "A Replay Memory stores every experience tuple (s, a, r, s', d) the agent encounters"
   ]
  },
  {
   "cell_type": "code",
   "execution_count": 6,
   "metadata": {},
   "outputs": [],
   "source": [
    "class ReplayMemory:\n",
    "    def __init__(self, max_size, batch_size):\n",
    "        self.deck = deque(maxlen=max_size)\n",
    "        self.experience = namedtuple(\"Experience\", field_names=[\"state\", \"action\", \"reward\", \"state_\", \"done\"])\n",
    "        self.batch_size = batch_size\n",
    "    def save_experience(self, state, action, reward, state_, done):\n",
    "        self.deck.append(self.experience(state, action, reward, state_, done))\n",
    "    def sample(self):\n",
    "        experiences = random.sample(self.deck, self.batch_size)\n",
    "        states = torch.from_numpy(np.vstack(\n",
    "                [xp.state for xp in experiences if xp is not None])).float().to(device)\n",
    "        actions = torch.from_numpy(np.vstack(\n",
    "                [xp.action for xp in experiences if xp is not None])).long().to(device)\n",
    "        rewards = torch.from_numpy(np.vstack(\n",
    "                [xp.reward for xp in experiences if xp is not None])).float().to(device)\n",
    "        states_ = torch.from_numpy(np.vstack(\n",
    "                [xp.state_ for xp in experiences if xp is not None])).float().to(device)\n",
    "        dones = torch.from_numpy(np.vstack(\n",
    "                [xp.done for xp in experiences if xp is not None]).astype(np.uint8)).to(device)\n",
    "        \n",
    "        return states, actions, rewards, states_, dones"
   ]
  },
  {
   "cell_type": "markdown",
   "metadata": {},
   "source": [
    "An Agent class containing an ANN and Replay Memory plays the game"
   ]
  },
  {
   "cell_type": "code",
   "execution_count": 7,
   "metadata": {},
   "outputs": [],
   "source": [
    "class Agent:\n",
    "    def __init__(self, trialnum, env, gamma, lr, tn_update_params, epsilon_dec_params, NN_params, memory_params):\n",
    "        self.env = env\n",
    "        self.epsilon = epsilon_dec_params[0]\n",
    "        self.gamma = gamma\n",
    "        self.mode = tn_update_params[0]\n",
    "        self.tau = tn_update_params[1]\n",
    "        self.replace_rate = tn_update_params[2]\n",
    "        self.epsilon_min = epsilon_dec_params[1]\n",
    "        self.epsilon_rate = epsilon_dec_params[2]\n",
    "        self.memory = ReplayMemory(*memory_params)\n",
    "        self.PolicyNet = DuelingDQN(env.observation_space.shape, \n",
    "                             env.action_space.n, \n",
    "                             lr, \n",
    "                             f'checkpoints/DuelingDQN/{env.spec.id}_PolicyNet_trial{trialnum}.pth', \n",
    "                             *NN_params).to(device)\n",
    "        self.TargetNet = DuelingDQN(env.observation_space.shape, \n",
    "                             env.action_space.n, \n",
    "                             lr, \n",
    "                             f'checkpoints/DuelingDQN/{env.spec.id}_TargetNet_trial{trialnum}.pth', \n",
    "                             *NN_params).to(device)\n",
    "        self.learn_counter = 0\n",
    "        \n",
    "    def choose_action(self, state):\n",
    "        if random.uniform(0, 1) < self.epsilon:\n",
    "            action = self.env.action_space.sample()\n",
    "        else:\n",
    "            state = torch.tensor(state, dtype=torch.float).view(1, -1).to(device) # Output Size is (1, state_size)\n",
    "            self.PolicyNet.eval() # sets to evaluation mode (things like dropout gets deactivated)\n",
    "            with torch.no_grad():\n",
    "                Qvalues_actions = self.PolicyNet(state) # Output Size is (1, n_actions)\n",
    "            self.PolicyNet.train() # sets to training mode (doesn't actually train!)\n",
    "            action = torch.argmax(Qvalues_actions).item() # Output Size is 1\n",
    "        return action\n",
    "    \n",
    "    def decrease_epsilon(self):\n",
    "        self.epsilon = self.epsilon - self.epsilon_rate if self.epsilon > self.epsilon_min else self.epsilon_min\n",
    "        \n",
    "    def update_targetnet(self):\n",
    "        if self.mode == 'soft':\n",
    "            for policynet_param, targetnet_param in zip(self.PolicyNet.parameters(), self.TargetNet.parameters()):\n",
    "                targetnet_param.data.copy_((1-self.tau)*targetnet_param + self.tau*policynet_param)\n",
    "        elif self.mode == 'hard':\n",
    "            if self.learn_counter % self.replace_rate == 0:\n",
    "                self.TargetNet.load_state_dict(self.PolicyNet.state_dict())\n",
    "        else:\n",
    "            raise Exception(\"Invalid target network update mode\")\n",
    "            \n",
    "    def learn(self):\n",
    "        if len(self.memory.deck) < self.memory.batch_size:\n",
    "            return None\n",
    "        \n",
    "        self.PolicyNet.optimizer.zero_grad()\n",
    "        experiences = self.memory.sample()\n",
    "        states, actions, rewards, states_, dones = experiences\n",
    "        # Q values of a batch of actions that the agent took in the past\n",
    "        Q_cur = self.PolicyNet(states).gather(1, actions).squeeze()\n",
    "        # Get max predicted Q values (for next states) from target model\n",
    "        Q_next = self.TargetNet(states_).max(dim=1)[0].detach()\n",
    "        Q_next[dones.squeeze()] = 0.0\n",
    "        Q_target = rewards.squeeze() + self.gamma*Q_next\n",
    "        # Be wary of dimensions of the loss_fn input, they must match\n",
    "        loss = self.PolicyNet.loss_fn(Q_cur, Q_target).to(device)\n",
    "        loss.backward()\n",
    "        self.PolicyNet.optimizer.step()\n",
    "        \n",
    "        # Update weights of target network\n",
    "        self.update_targetnet()\n",
    "        self.learn_counter += 1"
   ]
  },
  {
   "cell_type": "markdown",
   "metadata": {},
   "source": [
    "## Training the Model"
   ]
  },
  {
   "cell_type": "code",
   "execution_count": 8,
   "metadata": {},
   "outputs": [
    {
     "name": "stderr",
     "output_type": "stream",
     "text": [
      "/home/aryamaansaha/anaconda3/lib/python3.7/site-packages/ipykernel_launcher.py:60: UserWarning: masked_fill_ received a mask with dtype torch.uint8, this behavior is now deprecated,please use a mask with dtype torch.bool instead. (Triggered internally at  /opt/conda/conda-bld/pytorch_1646755861072/work/aten/src/ATen/native/cuda/Indexing.cu:967.)\n"
     ]
    },
    {
     "name": "stdout",
     "output_type": "stream",
     "text": [
      "Episode 10 Score: -194.0 Avg Score: -231.30 Best Score: -231.30 Eps: 0.01\n",
      "Episode 20 Score: -119.0 Avg Score: -185.70 Best Score: -185.70 Eps: 0.01\n",
      "Episode 30 Score: -232.0 Avg Score: -200.63 Best Score: -181.10 Eps: 0.01\n",
      "Episode 40 Score: -102.0 Avg Score: -189.97 Best Score: -181.10 Eps: 0.01\n",
      "Episode 50 Score: -106.0 Avg Score: -171.74 Best Score: -171.74 Eps: 0.01\n",
      "Episode 60 Score: -77.0 Avg Score: -157.43 Best Score: -157.43 Eps: 0.01\n",
      "Episode 70 Score: -68.0 Avg Score: -148.24 Best Score: -148.24 Eps: 0.01\n",
      "Episode 80 Score: -92.0 Avg Score: -142.24 Best Score: -142.24 Eps: 0.01\n",
      "Episode 90 Score: -93.0 Avg Score: -136.82 Best Score: -136.82 Eps: 0.01\n",
      "Episode 100 Score: -82.0 Avg Score: -131.22 Best Score: -131.22 Eps: 0.01\n",
      "Episode 110 Score: -67.0 Avg Score: -116.56 Best Score: -116.56 Eps: 0.01\n",
      "Episode 120 Score: -88.0 Avg Score: -112.16 Best Score: -112.16 Eps: 0.01\n",
      "Episode 130 Score: -62.0 Avg Score: -97.10 Best Score: -97.10 Eps: 0.01\n",
      "Episode 140 Score: -61.0 Avg Score: -89.41 Best Score: -89.41 Eps: 0.01\n",
      "Episode 150 Score: -143.0 Avg Score: -87.92 Best Score: -87.55 Eps: 0.01\n",
      "Episode 160 Score: -66.0 Avg Score: -86.73 Best Score: -86.73 Eps: 0.01\n",
      "Episode 170 Score: -63.0 Avg Score: -85.53 Best Score: -85.53 Eps: 0.01\n",
      "Episode 180 Score: -71.0 Avg Score: -83.14 Best Score: -83.14 Eps: 0.01\n",
      "Episode 190 Score: -102.0 Avg Score: -81.88 Best Score: -81.79 Eps: 0.01\n",
      "Episode 200 Score: -112.0 Avg Score: -82.73 Best Score: -81.58 Eps: 0.01\n",
      "Episode 210 Score: -67.0 Avg Score: -82.21 Best Score: -81.58 Eps: 0.01\n",
      "Episode 220 Score: -73.0 Avg Score: -81.07 Best Score: -81.07 Eps: 0.01\n",
      "Episode 230 Score: -106.0 Avg Score: -82.35 Best Score: -80.97 Eps: 0.01\n",
      "Episode 240 Score: -64.0 Avg Score: -82.70 Best Score: -80.97 Eps: 0.01\n",
      "Episode 250 Score: -63.0 Avg Score: -83.79 Best Score: -80.97 Eps: 0.01\n",
      "Episode 260 Score: -65.0 Avg Score: -84.22 Best Score: -80.97 Eps: 0.01\n",
      "Episode 270 Score: -62.0 Avg Score: -83.58 Best Score: -80.97 Eps: 0.01\n",
      "Episode 280 Score: -99.0 Avg Score: -83.76 Best Score: -80.97 Eps: 0.01\n",
      "Episode 290 Score: -62.0 Avg Score: -83.47 Best Score: -80.97 Eps: 0.01\n",
      "Episode 300 Score: -79.0 Avg Score: -81.97 Best Score: -80.97 Eps: 0.01\n",
      "Episode 310 Score: -80.0 Avg Score: -82.66 Best Score: -80.97 Eps: 0.01\n",
      "Episode 320 Score: -76.0 Avg Score: -81.23 Best Score: -80.97 Eps: 0.01\n",
      "Episode 330 Score: -82.0 Avg Score: -79.84 Best Score: -79.84 Eps: 0.01\n",
      "Episode 340 Score: -69.0 Avg Score: -78.97 Best Score: -78.51 Eps: 0.01\n",
      "Episode 350 Score: -70.0 Avg Score: -77.66 Best Score: -77.59 Eps: 0.01\n",
      "Episode 360 Score: -63.0 Avg Score: -77.01 Best Score: -76.77 Eps: 0.01\n",
      "Episode 370 Score: -64.0 Avg Score: -76.97 Best Score: -76.65 Eps: 0.01\n",
      "Episode 380 Score: -61.0 Avg Score: -76.80 Best Score: -76.65 Eps: 0.01\n",
      "Episode 390 Score: -71.0 Avg Score: -76.55 Best Score: -76.46 Eps: 0.01\n",
      "Episode 400 Score: -80.0 Avg Score: -76.74 Best Score: -76.25 Eps: 0.01\n",
      "Episode 410 Score: -91.0 Avg Score: -75.63 Best Score: -75.52 Eps: 0.01\n",
      "Episode 420 Score: -70.0 Avg Score: -76.27 Best Score: -75.52 Eps: 0.01\n",
      "Episode 430 Score: -86.0 Avg Score: -76.57 Best Score: -75.52 Eps: 0.01\n",
      "Episode 440 Score: -96.0 Avg Score: -76.46 Best Score: -75.52 Eps: 0.01\n",
      "Episode 450 Score: -63.0 Avg Score: -76.08 Best Score: -75.47 Eps: 0.01\n",
      "Episode 460 Score: -76.0 Avg Score: -75.82 Best Score: -75.47 Eps: 0.01\n",
      "Episode 470 Score: -64.0 Avg Score: -75.57 Best Score: -75.47 Eps: 0.01\n",
      "Episode 480 Score: -64.0 Avg Score: -75.59 Best Score: -75.09 Eps: 0.01\n",
      "Episode 490 Score: -62.0 Avg Score: -74.94 Best Score: -74.94 Eps: 0.01\n",
      "Episode 500 Score: -64.0 Avg Score: -74.98 Best Score: -74.58 Eps: 0.01\n",
      "Episode 510 Score: -71.0 Avg Score: -74.82 Best Score: -74.58 Eps: 0.01\n",
      "Episode 520 Score: -67.0 Avg Score: -73.84 Best Score: -73.84 Eps: 0.01\n",
      "Episode 530 Score: -62.0 Avg Score: -72.37 Best Score: -72.37 Eps: 0.01\n",
      "Episode 540 Score: -64.0 Avg Score: -72.37 Best Score: -72.21 Eps: 0.01\n",
      "Episode 550 Score: -69.0 Avg Score: -71.34 Best Score: -71.21 Eps: 0.01\n",
      "Episode 560 Score: -102.0 Avg Score: -71.96 Best Score: -71.02 Eps: 0.01\n",
      "Episode 570 Score: -62.0 Avg Score: -72.11 Best Score: -71.02 Eps: 0.01\n",
      "Episode 580 Score: -68.0 Avg Score: -71.58 Best Score: -71.02 Eps: 0.01\n",
      "Episode 590 Score: -70.0 Avg Score: -71.36 Best Score: -71.02 Eps: 0.01\n",
      "Episode 600 Score: -87.0 Avg Score: -71.00 Best Score: -70.77 Eps: 0.01\n",
      "Episode 610 Score: -65.0 Avg Score: -70.13 Best Score: -70.13 Eps: 0.01\n",
      "Episode 620 Score: -63.0 Avg Score: -70.37 Best Score: -70.04 Eps: 0.01\n",
      "Episode 630 Score: -79.0 Avg Score: -70.55 Best Score: -70.01 Eps: 0.01\n",
      "Episode 640 Score: -61.0 Avg Score: -69.89 Best Score: -69.85 Eps: 0.01\n",
      "Episode 650 Score: -76.0 Avg Score: -70.01 Best Score: -69.85 Eps: 0.01\n",
      "Episode 660 Score: -68.0 Avg Score: -69.39 Best Score: -69.39 Eps: 0.01\n",
      "Episode 670 Score: -117.0 Avg Score: -69.49 Best Score: -68.94 Eps: 0.01\n",
      "Episode 680 Score: -68.0 Avg Score: -68.98 Best Score: -68.94 Eps: 0.01\n",
      "Episode 690 Score: -63.0 Avg Score: -68.94 Best Score: -68.94 Eps: 0.01\n",
      "Episode 700 Score: -62.0 Avg Score: -68.65 Best Score: -68.58 Eps: 0.01\n",
      "Episode 710 Score: -101.0 Avg Score: -69.66 Best Score: -68.58 Eps: 0.01\n",
      "Episode 720 Score: -64.0 Avg Score: -69.59 Best Score: -68.58 Eps: 0.01\n",
      "Episode 730 Score: -64.0 Avg Score: -70.55 Best Score: -68.58 Eps: 0.01\n",
      "Episode 740 Score: -67.0 Avg Score: -71.31 Best Score: -68.58 Eps: 0.01\n",
      "Episode 750 Score: -64.0 Avg Score: -71.62 Best Score: -68.58 Eps: 0.01\n",
      "Episode 760 Score: -70.0 Avg Score: -71.36 Best Score: -68.58 Eps: 0.01\n",
      "Episode 770 Score: -64.0 Avg Score: -70.84 Best Score: -68.58 Eps: 0.01\n",
      "Episode 780 Score: -67.0 Avg Score: -71.32 Best Score: -68.58 Eps: 0.01\n",
      "Episode 790 Score: -61.0 Avg Score: -71.51 Best Score: -68.58 Eps: 0.01\n",
      "Episode 800 Score: -78.0 Avg Score: -72.17 Best Score: -68.58 Eps: 0.01\n",
      "Episode 810 Score: -63.0 Avg Score: -71.65 Best Score: -68.58 Eps: 0.01\n",
      "Episode 820 Score: -98.0 Avg Score: -73.14 Best Score: -68.58 Eps: 0.01\n",
      "Episode 830 Score: -74.0 Avg Score: -73.14 Best Score: -68.58 Eps: 0.01\n",
      "Episode 840 Score: -62.0 Avg Score: -72.62 Best Score: -68.58 Eps: 0.01\n",
      "Episode 850 Score: -69.0 Avg Score: -72.45 Best Score: -68.58 Eps: 0.01\n",
      "Episode 860 Score: -62.0 Avg Score: -72.76 Best Score: -68.58 Eps: 0.01\n",
      "Episode 870 Score: -62.0 Avg Score: -72.61 Best Score: -68.58 Eps: 0.01\n",
      "Episode 880 Score: -67.0 Avg Score: -72.42 Best Score: -68.58 Eps: 0.01\n",
      "Episode 890 Score: -58.0 Avg Score: -72.23 Best Score: -68.58 Eps: 0.01\n",
      "Episode 900 Score: -77.0 Avg Score: -71.88 Best Score: -68.58 Eps: 0.01\n",
      "Episode 910 Score: -63.0 Avg Score: -71.45 Best Score: -68.58 Eps: 0.01\n",
      "Episode 920 Score: -63.0 Avg Score: -70.87 Best Score: -68.58 Eps: 0.01\n",
      "Episode 930 Score: -65.0 Avg Score: -70.08 Best Score: -68.58 Eps: 0.01\n",
      "Episode 940 Score: -62.0 Avg Score: -70.12 Best Score: -68.58 Eps: 0.01\n",
      "Episode 950 Score: -62.0 Avg Score: -70.23 Best Score: -68.58 Eps: 0.01\n",
      "Episode 960 Score: -69.0 Avg Score: -70.17 Best Score: -68.58 Eps: 0.01\n",
      "Episode 970 Score: -75.0 Avg Score: -70.22 Best Score: -68.58 Eps: 0.01\n",
      "Episode 980 Score: -64.0 Avg Score: -69.92 Best Score: -68.58 Eps: 0.01\n",
      "Episode 990 Score: -69.0 Avg Score: -69.99 Best Score: -68.58 Eps: 0.01\n",
      "Episode 1000 Score: -63.0 Avg Score: -69.32 Best Score: -68.58 Eps: 0.01\n",
      "CPU times: user 4min 47s, sys: 1.83 s, total: 4min 49s\n",
      "Wall time: 4min 48s\n"
     ]
    }
   ],
   "source": [
    "%%time\n",
    "env = gym.make('Acrobot-v1')\n",
    "trialnum = 1\n",
    "# Hyperparameters\n",
    "hps = {\n",
    "    'gamma':0.99,\n",
    "    'lr':0.001,\n",
    "    'epsilon_init':1,\n",
    "    'epsilon_min':1e-2,\n",
    "    'epsilon_rate':5e-4,\n",
    "    'tn_update_mode':'soft',\n",
    "    'tau': 1e-2,\n",
    "    'tn_replace_rate': None,\n",
    "    'fc1_dims':256,\n",
    "    'fc2_dims':512,\n",
    "    'fc3_dims':128,\n",
    "    'max_size':10000,\n",
    "    'batch_size':64\n",
    "}\n",
    "agent = Agent(\n",
    "    trialnum = trialnum,\n",
    "    env=env,\n",
    "    gamma=hps['gamma'], \n",
    "    lr=hps['lr'],\n",
    "    epsilon_dec_params = (hps['epsilon_init'], hps['epsilon_min'], hps['epsilon_rate']),\n",
    "    tn_update_params = (hps['tn_update_mode'], hps['tau'], hps['tn_replace_rate']),\n",
    "    NN_params=(hps['fc1_dims'], hps['fc2_dims'], hps['fc3_dims']), \n",
    "    memory_params=(hps['max_size'], hps['batch_size'])\n",
    ")\n",
    "best_score = -np.inf\n",
    "best_reached_at = -1\n",
    "scores, avg_scores = [], []\n",
    "N = 1000\n",
    "for i in range(N):\n",
    "    state = env.reset()\n",
    "    score = 0\n",
    "    done = False\n",
    "    t = 0\n",
    "    while not done:\n",
    "        action = agent.choose_action(state)\n",
    "        state_, reward, done, _ = env.step(action)\n",
    "#         if (i+1) % 50 == 0:\n",
    "#             env.render()\n",
    "#             sleep(0.01)\n",
    "        score += reward\n",
    "        agent.memory.save_experience(state, action, reward, state_, done)\n",
    "        agent.learn()\n",
    "        agent.decrease_epsilon()\n",
    "        state = state_\n",
    "        t += 1\n",
    "    scores.append(score)\n",
    "    avg_score = np.mean(scores[-100:])\n",
    "    avg_scores.append(avg_score)\n",
    "    if avg_score > best_score:\n",
    "        best_score = avg_score\n",
    "        best_reached_at = i+1\n",
    "        agent.PolicyNet.save_model_checkpoint()\n",
    "        agent.TargetNet.save_model_checkpoint()\n",
    "        \n",
    "    if avg_score >= 195:\n",
    "        print(f\"Env solved in {i+1} episodes -> {avg_score}\")\n",
    "        break\n",
    "    if (i+1) % 10 == 0:\n",
    "        print(f'Episode {i+1} Score: {round(score, 2)} Avg Score: {avg_score:.2f}',\n",
    "              f'Best Score: {best_score:.2f} Eps: {round(agent.epsilon, 3)}')\n",
    "env.close()"
   ]
  },
  {
   "cell_type": "markdown",
   "metadata": {},
   "source": [
    "### Storing the results and hyperparameters"
   ]
  },
  {
   "cell_type": "code",
   "execution_count": 9,
   "metadata": {},
   "outputs": [],
   "source": [
    "agent_dict = {'Algorithm':'DuelingDQN', 'Trial':trialnum, 'Best Score':best_score, \n",
    "              'Best at':best_reached_at, 'Trained till':len(scores), 'hyperparams':hps}\n",
    "os.chdir(os.path.join(os.getcwd(), 'History'))\n",
    "with open(f'{env.spec.id}_history.txt', 'a+') as file:\n",
    "    file.write(f'{agent_dict}\\n\\n')\n",
    "os.chdir('../')"
   ]
  },
  {
   "cell_type": "markdown",
   "metadata": {},
   "source": [
    "## Plotting Scores"
   ]
  },
  {
   "cell_type": "code",
   "execution_count": 10,
   "metadata": {},
   "outputs": [
    {
     "data": {
      "image/png": "[encoded data removed]",
      "text/plain": [
       "<Figure size 792x360 with 2 Axes>"
      ]
     },
     "metadata": {
      "needs_background": "light"
     },
     "output_type": "display_data"
    }
   ],
   "source": [
    "def plot_graph(x, avg_scores, scores, figpath):\n",
    "    fig = plt.figure(figsize=(11, 5))\n",
    "    fig.suptitle(f'{env.spec.id} Trial{trialnum}')\n",
    "    fig.supxlabel(\"Episodes\")\n",
    "    \n",
    "    ax = fig.add_subplot(121)\n",
    "    ax2 = fig.add_subplot(122)\n",
    "\n",
    "    ax.plot(x, scores, color='#1f77b4')\n",
    "    ax.set_ylabel(\"Score\")\n",
    "\n",
    "    ax2.plot(x, avg_scores, color='#3a3fcf')\n",
    "    ax2.yaxis.tick_right()\n",
    "    ax2.set_ylabel('Avg Score')\n",
    "    ax2.yaxis.set_label_position('right')\n",
    "    \n",
    "    plt.savefig(figpath, facecolor='white', transparent=False)\n",
    "\n",
    "\n",
    "episode_indices = np.arange(1, len(scores)+1) \n",
    "figpath = f'graphs/DuelingDQN/{env.spec.id}_trial{trialnum}.png'\n",
    "\n",
    "plot_graph(episode_indices, avg_scores, scores, figpath)"
   ]
  },
  {
   "cell_type": "markdown",
   "metadata": {},
   "source": [
    "## Testing the Model"
   ]
  },
  {
   "cell_type": "markdown",
   "metadata": {},
   "source": [
    "Epsilon is set to 0 while testing, so the agent always chooses the best action"
   ]
  },
  {
   "cell_type": "code",
   "execution_count": 12,
   "metadata": {},
   "outputs": [
    {
     "name": "stdout",
     "output_type": "stream",
     "text": [
      "Note: For testing, make sure Epsilon is ignored \n",
      "\n",
      "Loading from -> checkpoints/DuelingDQN/Acrobot-v1_PolicyNet_trial1.pth\n",
      "Loading from -> checkpoints/DuelingDQN/Acrobot-v1_TargetNet_trial1.pth\n",
      "\n",
      " -77.0 \n",
      "\n",
      "\n",
      " -68.0 \n",
      "\n",
      "\n",
      " -62.0 \n",
      "\n",
      "\n",
      " -63.0 \n",
      "\n",
      "\n",
      " -63.0 \n",
      "\n"
     ]
    }
   ],
   "source": [
    "env = gym.make('Acrobot-v1')\n",
    "trialnum = 1\n",
    "# Hyperparameters\n",
    "hps = {\n",
    "    'gamma':0.99,\n",
    "    'lr':0.001,\n",
    "    'epsilon_init':0,\n",
    "    'epsilon_min':1e-2,\n",
    "    'epsilon_rate':5e-4,\n",
    "    'tn_update_mode':'soft',\n",
    "    'tau': 1e-2,\n",
    "    'tn_replace_rate': None,\n",
    "    'fc1_dims':256,\n",
    "    'fc2_dims':512,\n",
    "    'fc3_dims':128,\n",
    "    'max_size':10000,\n",
    "    'batch_size':64\n",
    "}\n",
    "print(\"Note: For testing, make sure Epsilon is ignored \\n\")\n",
    "agent = Agent(\n",
    "    trialnum = trialnum,\n",
    "    env=env,\n",
    "    gamma=hps['gamma'], \n",
    "    lr=hps['lr'],\n",
    "    epsilon_dec_params = (hps['epsilon_init'], hps['epsilon_min'], hps['epsilon_rate']),\n",
    "    tn_update_params = (hps['tn_update_mode'], hps['tau'], hps['tn_replace_rate']),\n",
    "    NN_params=(hps['fc1_dims'], hps['fc2_dims'], hps['fc3_dims']), \n",
    "    memory_params=(hps['max_size'], hps['batch_size'])\n",
    ")\n",
    "agent.PolicyNet.load_model_checkpoint()\n",
    "agent.TargetNet.load_model_checkpoint()\n",
    "\n",
    "for i in range(5):\n",
    "    done = False\n",
    "    score = 0\n",
    "    state = env.reset()\n",
    "    while not done:\n",
    "        env.render()\n",
    "        sleep(0.01)\n",
    "        action = agent.choose_action(state)\n",
    "        state_, reward, done, _ = env.step(action)\n",
    "        score += reward\n",
    "        state = state_\n",
    "    print('\\n',score,'\\n')\n",
    "env.close()"
   ]
  }
 ],
 "metadata": {
  "kernelspec": {
   "display_name": "Python 3",
   "language": "python",
   "name": "python3"
  },
  "language_info": {
   "codemirror_mode": {
    "name": "ipython",
    "version": 3
   },
   "file_extension": ".py",
   "mimetype": "text/x-python",
   "name": "python",
   "nbconvert_exporter": "python",
   "pygments_lexer": "ipython3",
   "version": "3.7.6"
  }
 },
 "nbformat": 4,
 "nbformat_minor": 4
}
