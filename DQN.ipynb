{
 "cells": [
  {
   "cell_type": "markdown",
   "metadata": {},
   "source": [
    "# Deep Q-Learning"
   ]
  },
  {
   "cell_type": "code",
   "execution_count": 1,
   "metadata": {},
   "outputs": [
    {
     "name": "stdout",
     "output_type": "stream",
     "text": [
      "Using cuda:0\n"
     ]
    }
   ],
   "source": [
    "import gym\n",
    "import os\n",
    "from collections import deque, namedtuple\n",
    "import numpy as np\n",
    "import pandas as pd\n",
    "import matplotlib.pyplot as plt\n",
    "import random\n",
    "import torch\n",
    "import torch.nn as nn\n",
    "import torch.nn.functional as F\n",
    "from time import sleep\n",
    "\n",
    "device = torch.device(\"cuda:0\" if torch.cuda.is_available() else \"cpu\")\n",
    "print(\"Using\", device)"
   ]
  },
  {
   "cell_type": "markdown",
   "metadata": {},
   "source": [
    "### Untrained agent without Reinforcement Learning"
   ]
  },
  {
   "cell_type": "code",
   "execution_count": 2,
   "metadata": {},
   "outputs": [
    {
     "name": "stdout",
     "output_type": "stream",
     "text": [
      "Box(-3.4028234663852886e+38, 3.4028234663852886e+38, (4,), float32)\n",
      "Discrete(2)\n"
     ]
    }
   ],
   "source": [
    "env = gym.make('CartPole-v0')\n",
    "print(env.observation_space)\n",
    "print(env.action_space)"
   ]
  },
  {
   "cell_type": "code",
   "execution_count": 3,
   "metadata": {},
   "outputs": [
    {
     "name": "stdout",
     "output_type": "stream",
     "text": [
      "Episode 0 | Score: 41.0\n",
      "Episode 1 | Score: 16.0\n",
      "Episode 2 | Score: 17.0\n",
      "Episode 3 | Score: 18.0\n",
      "Episode 4 | Score: 30.0\n"
     ]
    }
   ],
   "source": [
    "for i in range(5):\n",
    "    state = env.reset()\n",
    "    score = 0\n",
    "    done = False\n",
    "    while not done:\n",
    "        env.render()\n",
    "        sleep(0.01)\n",
    "        action = env.action_space.sample()\n",
    "        state_, reward, done, _ = env.step(action)\n",
    "        score += reward\n",
    "        state = state_\n",
    "    print(f'Episode {i} | Score: {score}')\n",
    "env.close()"
   ]
  },
  {
   "cell_type": "markdown",
   "metadata": {},
   "source": [
    "## Building the Deep Q-Learning Model"
   ]
  },
  {
   "cell_type": "markdown",
   "metadata": {},
   "source": [
    "The Artificial Neural Network (ANN) takes states as input and outputs Q values of the actions"
   ]
  },
  {
   "cell_type": "code",
   "execution_count": 4,
   "metadata": {},
   "outputs": [],
   "source": [
    "class DQN(nn.Module):\n",
    "    def __init__(self, state_size, n_actions, lr, save_path, fc1_dims=64, fc2_dims=128):\n",
    "        super(DQN, self).__init__()\n",
    "\n",
    "        self.fc1 = nn.Linear(state_size[0], fc1_dims)\n",
    "        self.fc2 = nn.Linear(fc1_dims, fc2_dims)\n",
    "        self.fc3 = nn.Linear(fc2_dims, n_actions)\n",
    "        \n",
    "        self.optimizer = torch.optim.Adam(self.parameters(), lr=lr)\n",
    "        self.loss_fn = nn.MSELoss()\n",
    "        self.save_path = os.path.join(save_path)\n",
    "    def save_model_checkpoint(self):\n",
    "        torch.save(self.state_dict(), self.save_path)\n",
    "    \n",
    "    def load_model_checkpoint(self):\n",
    "        print('Loading from ->',self.save_path)\n",
    "        self.load_state_dict(torch.load(self.save_path))\n",
    "        \n",
    "    def forward(self, state):\n",
    "        x = F.relu(self.fc1(state))\n",
    "        x = F.relu(self.fc2(x))\n",
    "        Qvalues_actions = self.fc3(x)\n",
    "        return Qvalues_actions\n",
    "    "
   ]
  },
  {
   "cell_type": "markdown",
   "metadata": {},
   "source": [
    "A Replay Memory stores every experience tuple (s, a, r, s', d) the agent encounters"
   ]
  },
  {
   "cell_type": "code",
   "execution_count": 5,
   "metadata": {},
   "outputs": [],
   "source": [
    "class ReplayMemory:\n",
    "    def __init__(self, max_size, batch_size):\n",
    "        self.deck = deque(maxlen=max_size)\n",
    "        self.experience = namedtuple(\"Experience\", field_names=[\"state\", \"action\", \"reward\", \"state_\", \"done\"])\n",
    "        self.batch_size = batch_size\n",
    "    def save_experience(self, state, action, reward, state_, done):\n",
    "        self.deck.append(self.experience(state, action, reward, state_, done))\n",
    "    def sample(self):\n",
    "        experiences = random.sample(self.deck, self.batch_size)\n",
    "        states = torch.from_numpy(np.vstack(\n",
    "                [xp.state for xp in experiences if xp is not None])).float().to(device)\n",
    "        actions = torch.from_numpy(np.vstack(\n",
    "                [xp.action for xp in experiences if xp is not None])).long().to(device)\n",
    "        rewards = torch.from_numpy(np.vstack(\n",
    "                [xp.reward for xp in experiences if xp is not None])).float().to(device)\n",
    "        states_ = torch.from_numpy(np.vstack(\n",
    "                [xp.state_ for xp in experiences if xp is not None])).float().to(device)\n",
    "        dones = torch.from_numpy(np.vstack(\n",
    "                [xp.done for xp in experiences if xp is not None]).astype(np.uint8)).to(device)\n",
    "        \n",
    "        return states, actions, rewards, states_, dones"
   ]
  },
  {
   "cell_type": "markdown",
   "metadata": {},
   "source": [
    "An Agent class containing an ANN and Replay Memory plays the game"
   ]
  },
  {
   "cell_type": "code",
   "execution_count": 6,
   "metadata": {},
   "outputs": [],
   "source": [
    "class Agent:\n",
    "    def __init__(self, trialnum, env, gamma, lr, tn_update_params, epsilon_dec_params, NN_params, memory_params):\n",
    "        self.env = env\n",
    "        self.epsilon = epsilon_dec_params[0]\n",
    "        self.gamma = gamma\n",
    "        self.mode = tn_update_params[0]\n",
    "        self.tau = tn_update_params[1]\n",
    "        self.replace_rate = tn_update_params[2]\n",
    "        self.epsilon_min = epsilon_dec_params[1]\n",
    "        self.epsilon_rate = epsilon_dec_params[2]\n",
    "        self.memory = ReplayMemory(*memory_params)\n",
    "        self.PolicyNet = DQN(env.observation_space.shape, \n",
    "                             env.action_space.n, \n",
    "                             lr, \n",
    "                             f'checkpoints/DQN/{env.spec.id}_PolicyNet_trial{trialnum}.pth', \n",
    "                             *NN_params).to(device)\n",
    "        self.TargetNet = DQN(env.observation_space.shape, \n",
    "                             env.action_space.n, \n",
    "                             lr, \n",
    "                             f'checkpoints/DQN/{env.spec.id}_TargetNet_trial{trialnum}.pth', \n",
    "                             *NN_params).to(device)\n",
    "        self.learn_counter = 0\n",
    "        \n",
    "    def choose_action(self, state):\n",
    "        if random.uniform(0, 1) < self.epsilon:\n",
    "            action = self.env.action_space.sample()\n",
    "        else:\n",
    "            state = torch.tensor(state, dtype=torch.float).view(1, -1).to(device) # Output Size is (1, state_size)\n",
    "            self.PolicyNet.eval() # sets to evaluation mode (things like dropout gets deactivated)\n",
    "            with torch.no_grad():\n",
    "                Qvalues_actions = self.PolicyNet(state) # Output Size is (1, n_actions)\n",
    "            self.PolicyNet.train() # sets to training mode (doesn't actually train!)\n",
    "            action = torch.argmax(Qvalues_actions).item() # Output Size is 1\n",
    "        return action\n",
    "    \n",
    "    def decrease_epsilon(self):\n",
    "        self.epsilon = self.epsilon - self.epsilon_rate if self.epsilon > self.epsilon_min else self.epsilon_min\n",
    "        \n",
    "    def update_targetnet(self):\n",
    "        if self.mode == 'soft':\n",
    "            for policynet_param, targetnet_param in zip(self.PolicyNet.parameters(), self.TargetNet.parameters()):\n",
    "                targetnet_param.data.copy_((1-self.tau)*targetnet_param + self.tau*policynet_param)\n",
    "        elif self.mode == 'hard':\n",
    "            if self.learn_counter % self.replace_rate == 0:\n",
    "                self.TargetNet.load_state_dict(self.PolicyNet.state_dict())\n",
    "        else:\n",
    "            raise Exception(\"Invalid target network update mode\")\n",
    "            \n",
    "    def learn(self):\n",
    "        if len(self.memory.deck) < self.memory.batch_size:\n",
    "            return None\n",
    "        \n",
    "        self.PolicyNet.optimizer.zero_grad()\n",
    "        experiences = self.memory.sample()\n",
    "        states, actions, rewards, states_, dones = experiences\n",
    "        # Q values of a batch of actions that the agent took in the past\n",
    "        Q_cur = self.PolicyNet(states).gather(1, actions).squeeze()\n",
    "        # Get max predicted Q values (for next states) from target model\n",
    "        Q_next = self.TargetNet(states_).max(dim=1)[0].detach()\n",
    "        Q_next[dones.squeeze()] = 0.0\n",
    "        Q_target = rewards.squeeze() + self.gamma*Q_next\n",
    "        # Be wary of dimensions of the loss_fn input, they must match\n",
    "        loss = self.PolicyNet.loss_fn(Q_cur, Q_target).to(device)\n",
    "        loss.backward()\n",
    "        self.PolicyNet.optimizer.step()\n",
    "        \n",
    "        # Update weights of target network\n",
    "        self.update_targetnet()\n",
    "        self.learn_counter += 1"
   ]
  },
  {
   "cell_type": "markdown",
   "metadata": {},
   "source": [
    "## Training the Model"
   ]
  },
  {
   "cell_type": "code",
   "execution_count": 8,
   "metadata": {},
   "outputs": [
    {
     "name": "stderr",
     "output_type": "stream",
     "text": [
      "/home/aryamaansaha/anaconda3/lib/python3.7/site-packages/ipykernel_launcher.py:60: UserWarning: masked_fill_ received a mask with dtype torch.uint8, this behavior is now deprecated,please use a mask with dtype torch.bool instead. (Triggered internally at  /opt/conda/conda-bld/pytorch_1646755861072/work/aten/src/ATen/native/cuda/Indexing.cu:967.)\n"
     ]
    },
    {
     "name": "stdout",
     "output_type": "stream",
     "text": [
      "Episode 10 Score: 31.0 Avg Score: 22.20 Best Score: 39.00 Eps: 0.989\n",
      "Episode 20 Score: 12.0 Avg Score: 19.25 Best Score: 39.00 Eps: 0.981\n",
      "Episode 30 Score: 14.0 Avg Score: 20.17 Best Score: 39.00 Eps: 0.97\n",
      "Episode 40 Score: 22.0 Avg Score: 20.27 Best Score: 39.00 Eps: 0.959\n",
      "Episode 50 Score: 32.0 Avg Score: 22.08 Best Score: 39.00 Eps: 0.945\n",
      "Episode 60 Score: 16.0 Avg Score: 22.38 Best Score: 39.00 Eps: 0.933\n",
      "Episode 70 Score: 16.0 Avg Score: 22.66 Best Score: 39.00 Eps: 0.921\n",
      "Episode 80 Score: 35.0 Avg Score: 23.75 Best Score: 39.00 Eps: 0.905\n",
      "Episode 90 Score: 24.0 Avg Score: 23.80 Best Score: 39.00 Eps: 0.893\n",
      "Episode 100 Score: 22.0 Avg Score: 24.72 Best Score: 39.00 Eps: 0.876\n",
      "Episode 110 Score: 47.0 Avg Score: 25.86 Best Score: 39.00 Eps: 0.86\n",
      "Episode 120 Score: 38.0 Avg Score: 26.92 Best Score: 39.00 Eps: 0.846\n",
      "Episode 130 Score: 60.0 Avg Score: 28.26 Best Score: 39.00 Eps: 0.828\n",
      "Episode 140 Score: 46.0 Avg Score: 28.87 Best Score: 39.00 Eps: 0.815\n",
      "Episode 150 Score: 18.0 Avg Score: 28.18 Best Score: 39.00 Eps: 0.804\n",
      "Episode 160 Score: 22.0 Avg Score: 29.68 Best Score: 39.00 Eps: 0.784\n",
      "Episode 170 Score: 24.0 Avg Score: 30.65 Best Score: 39.00 Eps: 0.767\n",
      "Episode 180 Score: 16.0 Avg Score: 30.53 Best Score: 39.00 Eps: 0.752\n",
      "Episode 190 Score: 31.0 Avg Score: 31.47 Best Score: 39.00 Eps: 0.736\n",
      "Episode 200 Score: 47.0 Avg Score: 30.68 Best Score: 39.00 Eps: 0.723\n",
      "Episode 210 Score: 31.0 Avg Score: 31.13 Best Score: 39.00 Eps: 0.704\n",
      "Episode 220 Score: 22.0 Avg Score: 32.22 Best Score: 39.00 Eps: 0.685\n",
      "Episode 230 Score: 17.0 Avg Score: 33.91 Best Score: 39.00 Eps: 0.659\n",
      "Episode 240 Score: 23.0 Avg Score: 35.97 Best Score: 39.00 Eps: 0.635\n",
      "Episode 250 Score: 27.0 Avg Score: 37.08 Best Score: 39.00 Eps: 0.619\n",
      "Episode 260 Score: 14.0 Avg Score: 34.95 Best Score: 39.00 Eps: 0.61\n",
      "Episode 270 Score: 20.0 Avg Score: 35.35 Best Score: 39.00 Eps: 0.591\n",
      "Episode 280 Score: 15.0 Avg Score: 35.47 Best Score: 39.00 Eps: 0.575\n",
      "Episode 290 Score: 19.0 Avg Score: 34.77 Best Score: 39.00 Eps: 0.562\n",
      "Episode 300 Score: 70.0 Avg Score: 36.04 Best Score: 39.00 Eps: 0.543\n",
      "Episode 310 Score: 29.0 Avg Score: 36.43 Best Score: 39.00 Eps: 0.522\n",
      "Episode 320 Score: 19.0 Avg Score: 37.79 Best Score: 39.00 Eps: 0.496\n",
      "Episode 330 Score: 21.0 Avg Score: 37.55 Best Score: 39.00 Eps: 0.471\n",
      "Episode 340 Score: 39.0 Avg Score: 36.27 Best Score: 39.00 Eps: 0.454\n",
      "Episode 350 Score: 19.0 Avg Score: 37.83 Best Score: 39.00 Eps: 0.429\n",
      "Episode 360 Score: 21.0 Avg Score: 42.90 Best Score: 42.90 Eps: 0.395\n",
      "Episode 370 Score: 15.0 Avg Score: 42.55 Best Score: 43.08 Eps: 0.378\n",
      "Episode 380 Score: 49.0 Avg Score: 43.72 Best Score: 44.08 Eps: 0.356\n",
      "Episode 390 Score: 12.0 Avg Score: 44.44 Best Score: 44.83 Eps: 0.34\n",
      "Episode 400 Score: 20.0 Avg Score: 45.45 Best Score: 46.55 Eps: 0.316\n",
      "Episode 410 Score: 97.0 Avg Score: 48.87 Best Score: 48.87 Eps: 0.277\n",
      "Episode 420 Score: 33.0 Avg Score: 51.30 Best Score: 51.30 Eps: 0.24\n",
      "Episode 430 Score: 72.0 Avg Score: 58.74 Best Score: 58.74 Eps: 0.177\n",
      "Episode 440 Score: 200.0 Avg Score: 71.18 Best Score: 71.18 Eps: 0.098\n",
      "Episode 450 Score: 200.0 Avg Score: 86.27 Best Score: 86.27 Eps: 0.01\n",
      "Episode 460 Score: 200.0 Avg Score: 99.44 Best Score: 99.44 Eps: 0.01\n",
      "Episode 470 Score: 200.0 Avg Score: 115.99 Best Score: 115.99 Eps: 0.01\n",
      "Episode 480 Score: 200.0 Avg Score: 131.68 Best Score: 131.68 Eps: 0.01\n",
      "Episode 490 Score: 200.0 Avg Score: 148.30 Best Score: 148.30 Eps: 0.01\n",
      "Episode 500 Score: 200.0 Avg Score: 163.51 Best Score: 163.51 Eps: 0.01\n",
      "Episode 510 Score: 200.0 Avg Score: 175.89 Best Score: 175.89 Eps: 0.01\n",
      "Episode 520 Score: 200.0 Avg Score: 184.47 Best Score: 184.47 Eps: 0.01\n",
      "Episode 530 Score: 200.0 Avg Score: 184.64 Best Score: 185.39 Eps: 0.01\n",
      "Episode 540 Score: 200.0 Avg Score: 185.53 Best Score: 185.53 Eps: 0.01\n",
      "Episode 550 Score: 200.0 Avg Score: 183.99 Best Score: 185.53 Eps: 0.01\n",
      "Episode 560 Score: 200.0 Avg Score: 182.74 Best Score: 185.53 Eps: 0.01\n",
      "Episode 570 Score: 200.0 Avg Score: 182.71 Best Score: 185.53 Eps: 0.01\n",
      "Episode 580 Score: 200.0 Avg Score: 182.71 Best Score: 185.53 Eps: 0.01\n",
      "Episode 590 Score: 200.0 Avg Score: 181.84 Best Score: 185.53 Eps: 0.01\n",
      "Episode 600 Score: 200.0 Avg Score: 181.59 Best Score: 185.53 Eps: 0.01\n",
      "Episode 610 Score: 200.0 Avg Score: 180.41 Best Score: 185.53 Eps: 0.01\n",
      "Episode 620 Score: 200.0 Avg Score: 181.17 Best Score: 185.53 Eps: 0.01\n",
      "Episode 630 Score: 200.0 Avg Score: 188.57 Best Score: 188.57 Eps: 0.01\n",
      "Episode 640 Score: 200.0 Avg Score: 187.86 Best Score: 190.17 Eps: 0.01\n",
      "Episode 650 Score: 200.0 Avg Score: 187.55 Best Score: 190.17 Eps: 0.01\n",
      "Episode 660 Score: 200.0 Avg Score: 188.80 Best Score: 190.17 Eps: 0.01\n",
      "Episode 670 Score: 200.0 Avg Score: 188.65 Best Score: 190.17 Eps: 0.01\n",
      "Episode 680 Score: 200.0 Avg Score: 188.27 Best Score: 190.17 Eps: 0.01\n",
      "Episode 690 Score: 200.0 Avg Score: 188.81 Best Score: 190.17 Eps: 0.01\n",
      "Episode 700 Score: 200.0 Avg Score: 188.02 Best Score: 190.17 Eps: 0.01\n",
      "Episode 710 Score: 122.0 Avg Score: 185.55 Best Score: 190.17 Eps: 0.01\n",
      "Episode 720 Score: 128.0 Avg Score: 178.72 Best Score: 190.17 Eps: 0.01\n",
      "Episode 730 Score: 13.0 Avg Score: 162.63 Best Score: 190.17 Eps: 0.01\n",
      "Episode 740 Score: 200.0 Avg Score: 165.44 Best Score: 190.17 Eps: 0.01\n",
      "Episode 750 Score: 200.0 Avg Score: 167.29 Best Score: 190.17 Eps: 0.01\n",
      "Episode 760 Score: 200.0 Avg Score: 167.29 Best Score: 190.17 Eps: 0.01\n",
      "Episode 770 Score: 200.0 Avg Score: 167.47 Best Score: 190.17 Eps: 0.01\n",
      "Episode 780 Score: 200.0 Avg Score: 167.85 Best Score: 190.17 Eps: 0.01\n",
      "Episode 790 Score: 200.0 Avg Score: 168.13 Best Score: 190.17 Eps: 0.01\n",
      "Episode 800 Score: 200.0 Avg Score: 169.17 Best Score: 190.17 Eps: 0.01\n",
      "Episode 810 Score: 200.0 Avg Score: 172.82 Best Score: 190.17 Eps: 0.01\n",
      "Episode 820 Score: 170.0 Avg Score: 181.45 Best Score: 190.17 Eps: 0.01\n",
      "Episode 830 Score: 143.0 Avg Score: 193.99 Best Score: 193.99 Eps: 0.01\n",
      "Episode 840 Score: 138.0 Avg Score: 187.57 Best Score: 193.99 Eps: 0.01\n",
      "Episode 850 Score: 200.0 Avg Score: 184.88 Best Score: 193.99 Eps: 0.01\n",
      "Episode 860 Score: 200.0 Avg Score: 184.88 Best Score: 193.99 Eps: 0.01\n",
      "Episode 870 Score: 200.0 Avg Score: 180.95 Best Score: 193.99 Eps: 0.01\n",
      "Episode 880 Score: 200.0 Avg Score: 180.95 Best Score: 193.99 Eps: 0.01\n",
      "Episode 890 Score: 200.0 Avg Score: 181.00 Best Score: 193.99 Eps: 0.01\n",
      "Episode 900 Score: 200.0 Avg Score: 181.00 Best Score: 193.99 Eps: 0.01\n",
      "Episode 910 Score: 200.0 Avg Score: 181.00 Best Score: 193.99 Eps: 0.01\n",
      "Episode 920 Score: 200.0 Avg Score: 182.29 Best Score: 193.99 Eps: 0.01\n",
      "Episode 930 Score: 200.0 Avg Score: 183.49 Best Score: 193.99 Eps: 0.01\n",
      "Episode 940 Score: 200.0 Avg Score: 191.03 Best Score: 193.99 Eps: 0.01\n",
      "Episode 950 Score: 200.0 Avg Score: 193.72 Best Score: 193.99 Eps: 0.01\n",
      "Episode 960 Score: 200.0 Avg Score: 193.37 Best Score: 193.99 Eps: 0.01\n",
      "Env solved in 963 episodes -> 195.79\n",
      "CPU times: user 5min 6s, sys: 2.18 s, total: 5min 8s\n",
      "Wall time: 6min 25s\n"
     ]
    }
   ],
   "source": [
    "%%time\n",
    "env = gym.make('CartPole-v0')\n",
    "trialnum = 1\n",
    "# Hyperparameters\n",
    "hps = {\n",
    "    'gamma':0.99,\n",
    "    'lr':0.001,\n",
    "    'epsilon_init':1,\n",
    "    'epsilon_min':1e-2,\n",
    "    'epsilon_rate':5e-5,\n",
    "    'tn_update_mode':'soft',\n",
    "    'tau':1e-2,\n",
    "    'tn_replace_rate':None,\n",
    "    'fc1_dims':256,\n",
    "    'fc2_dims':512,\n",
    "    'max_size':10000,\n",
    "    'batch_size':64\n",
    "}\n",
    "agent = Agent(\n",
    "    trialnum = trialnum,\n",
    "    env=env,\n",
    "    gamma=hps['gamma'], \n",
    "    lr=hps['lr'],\n",
    "    epsilon_dec_params = (hps['epsilon_init'], hps['epsilon_min'], hps['epsilon_rate']),\n",
    "    tn_update_params = (hps['tn_update_mode'], hps['tau'], hps['tn_replace_rate']),\n",
    "    NN_params=(hps['fc1_dims'], hps['fc2_dims']), \n",
    "    memory_params=(hps['max_size'], hps['batch_size'])\n",
    ")\n",
    "best_score = -np.inf\n",
    "best_reached_at = -1\n",
    "scores, avg_scores = [], []\n",
    "N = 1000\n",
    "for i in range(N):\n",
    "    state = env.reset()\n",
    "    score = 0\n",
    "    done = False\n",
    "    t = 0\n",
    "    while not done:\n",
    "        action = agent.choose_action(state)\n",
    "        state_, reward, done, _ = env.step(action)\n",
    "        if (i+1) % 50 == 0:\n",
    "            env.render()\n",
    "            sleep(0.01)\n",
    "        score += reward\n",
    "        agent.memory.save_experience(state, action, reward, state_, done)\n",
    "        agent.learn()\n",
    "        agent.decrease_epsilon()\n",
    "        state = state_\n",
    "        t += 1\n",
    "    scores.append(score)\n",
    "    avg_score = np.mean(scores[-100:])\n",
    "    avg_scores.append(avg_score)\n",
    "    if avg_score > best_score:\n",
    "        best_score = avg_score\n",
    "        best_reached_at = i+1\n",
    "        agent.PolicyNet.save_model_checkpoint()\n",
    "        agent.TargetNet.save_model_checkpoint()\n",
    "        \n",
    "    if avg_score >= 195:\n",
    "        print(f\"Env solved in {i+1} episodes -> {avg_score}\")\n",
    "        break\n",
    "    if (i+1) % 10 == 0:\n",
    "        print(f'Episode {i+1} Score: {round(score, 2)} Avg Score: {avg_score:.2f}',\n",
    "              f'Best Score: {best_score:.2f} Eps: {round(agent.epsilon, 3)}')\n",
    "env.close()"
   ]
  },
  {
   "cell_type": "markdown",
   "metadata": {},
   "source": [
    "### Storing the results and hyperparameters"
   ]
  },
  {
   "cell_type": "code",
   "execution_count": 9,
   "metadata": {},
   "outputs": [],
   "source": [
    "agent_dict = {'Algorithm':'DQN', 'Trial':trialnum, 'Best Score':best_score, \n",
    "              'Best at':best_reached_at, 'Trained till':len(scores), 'hyperparams':hps}\n",
    "os.chdir(os.path.join(os.getcwd(), 'History'))\n",
    "with open(f'{env.spec.id}_history.txt', 'a+') as file:\n",
    "    file.write(f'{agent_dict}\\n\\n')\n",
    "os.chdir('../')"
   ]
  },
  {
   "cell_type": "markdown",
   "metadata": {},
   "source": [
    "## Plotting Scores"
   ]
  },
  {
   "cell_type": "code",
   "execution_count": 10,
   "metadata": {},
   "outputs": [
    {
     "data": {
      "image/png": "[encoded data removed]",
      "text/plain": [
       "<Figure size 792x360 with 2 Axes>"
      ]
     },
     "metadata": {
      "needs_background": "light"
     },
     "output_type": "display_data"
    }
   ],
   "source": [
    "def plot_graph(x, avg_scores, scores, figpath):\n",
    "    fig = plt.figure(figsize=(11, 5))\n",
    "    fig.suptitle(f'{env.spec.id} Trial{trialnum}')\n",
    "    fig.supxlabel(\"Episodes\")\n",
    "    \n",
    "    ax = fig.add_subplot(121)\n",
    "    ax2 = fig.add_subplot(122)\n",
    "\n",
    "    ax.plot(x, scores, color='#1f77b4')\n",
    "    ax.set_ylabel(\"Score\")\n",
    "\n",
    "    ax2.plot(x, avg_scores, color='#3a3fcf')\n",
    "    ax2.yaxis.tick_right()\n",
    "    ax2.set_ylabel('Avg Score')\n",
    "    ax2.yaxis.set_label_position('right')\n",
    "    \n",
    "    plt.savefig(figpath, facecolor='white', transparent=False)\n",
    "\n",
    "\n",
    "episode_indices = np.arange(1, len(scores)+1) \n",
    "figpath = f'graphs/DQN/{env.spec.id}_trial{trialnum}.png'\n",
    "\n",
    "plot_graph(episode_indices, avg_scores, scores, figpath)"
   ]
  },
  {
   "cell_type": "markdown",
   "metadata": {},
   "source": [
    "## Testing the Model"
   ]
  },
  {
   "cell_type": "markdown",
   "metadata": {},
   "source": [
    "Epsilon is set to 0 while testing, so the agent always chooses the best action"
   ]
  },
  {
   "cell_type": "code",
   "execution_count": 11,
   "metadata": {},
   "outputs": [
    {
     "name": "stdout",
     "output_type": "stream",
     "text": [
      "Note: For testing, make sure Epsilon is ignored \n",
      "\n",
      "Loading from -> checkpoints/DQN/CartPole-v0_PolicyNet_trial1.pth\n",
      "Loading from -> checkpoints/DQN/CartPole-v0_TargetNet_trial1.pth\n",
      "\n",
      " 200.0 \n",
      "\n",
      "\n",
      " 200.0 \n",
      "\n",
      "\n",
      " 200.0 \n",
      "\n",
      "\n",
      " 200.0 \n",
      "\n",
      "\n",
      " 200.0 \n",
      "\n"
     ]
    }
   ],
   "source": [
    "env = gym.make('CartPole-v0')\n",
    "trialnum = 1\n",
    "# Hyperparameters\n",
    "hps = {\n",
    "    'gamma':0.99,\n",
    "    'lr':0.001,\n",
    "    'epsilon_init':0,\n",
    "    'epsilon_min':1e-2,\n",
    "    'epsilon_rate':5e-5,\n",
    "    'tn_update_mode':'soft',\n",
    "    'tau':1e-2,\n",
    "    'tn_replace_rate':None,\n",
    "    'fc1_dims':256,\n",
    "    'fc2_dims':512,\n",
    "    'max_size':10000,\n",
    "    'batch_size':64\n",
    "}\n",
    "print(\"Note: For testing, make sure Epsilon is ignored \\n\")\n",
    "agent = Agent(\n",
    "    trialnum = trialnum,\n",
    "    env=env,\n",
    "    gamma=hps['gamma'], \n",
    "    lr=hps['lr'],\n",
    "    epsilon_dec_params = (hps['epsilon_init'], hps['epsilon_min'], hps['epsilon_rate']),\n",
    "    tn_update_params = (hps['tn_update_mode'], hps['tau'], hps['tn_replace_rate']),\n",
    "    NN_params=(hps['fc1_dims'], hps['fc2_dims']), \n",
    "    memory_params=(hps['max_size'], hps['batch_size'])\n",
    ")\n",
    "agent.PolicyNet.load_model_checkpoint()\n",
    "agent.TargetNet.load_model_checkpoint()\n",
    "\n",
    "for i in range(5):\n",
    "    done = False\n",
    "    score = 0\n",
    "    state = env.reset()\n",
    "    while not done:\n",
    "        env.render()\n",
    "        sleep(0.01)\n",
    "        action = agent.choose_action(state)\n",
    "        state_, reward, done, _ = env.step(action)\n",
    "        score += reward\n",
    "        state = state_\n",
    "    print('\\n',score,'\\n')\n",
    "env.close()"
   ]
  }
 ],
 "metadata": {
  "kernelspec": {
   "display_name": "Python 3",
   "language": "python",
   "name": "python3"
  },
  "language_info": {
   "codemirror_mode": {
    "name": "ipython",
    "version": 3
   },
   "file_extension": ".py",
   "mimetype": "text/x-python",
   "name": "python",
   "nbconvert_exporter": "python",
   "pygments_lexer": "ipython3",
   "version": "3.7.6"
  }
 },
 "nbformat": 4,
 "nbformat_minor": 4
}
