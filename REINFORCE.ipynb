{
 "cells": [
  {
   "cell_type": "markdown",
   "metadata": {},
   "source": [
    "# REINFORCE Algorithm"
   ]
  },
  {
   "cell_type": "code",
   "execution_count": 1,
   "metadata": {},
   "outputs": [
    {
     "name": "stdout",
     "output_type": "stream",
     "text": [
      "Using cuda:0\n"
     ]
    }
   ],
   "source": [
    "import gym\n",
    "import os\n",
    "import numpy as np\n",
    "import matplotlib.pyplot as plt\n",
    "from collections import namedtuple\n",
    "import random\n",
    "import torch\n",
    "import torch.nn as nn\n",
    "import torch.nn.functional as F\n",
    "import torch.distributions as dist\n",
    "from time import sleep\n",
    "\n",
    "device = torch.device(\"cuda:0\" if torch.cuda.is_available() else \"cpu\")\n",
    "print(\"Using\", device)"
   ]
  },
  {
   "cell_type": "markdown",
   "metadata": {},
   "source": [
    "### Untrained agent without Reinforcement Learning"
   ]
  },
  {
   "cell_type": "code",
   "execution_count": 2,
   "metadata": {},
   "outputs": [
    {
     "name": "stdout",
     "output_type": "stream",
     "text": [
      "Box(-3.4028234663852886e+38, 3.4028234663852886e+38, (4,), float32)\n",
      "Discrete(2)\n"
     ]
    }
   ],
   "source": [
    "env = gym.make('CartPole-v1')\n",
    "print(env.observation_space)\n",
    "print(env.action_space)"
   ]
  },
  {
   "cell_type": "code",
   "execution_count": 3,
   "metadata": {},
   "outputs": [
    {
     "name": "stdout",
     "output_type": "stream",
     "text": [
      "Episode 0 | Score: 35.0\n",
      "Episode 1 | Score: 14.0\n",
      "Episode 2 | Score: 17.0\n",
      "Episode 3 | Score: 12.0\n",
      "Episode 4 | Score: 19.0\n"
     ]
    }
   ],
   "source": [
    "for i in range(5):\n",
    "    state = env.reset()\n",
    "    score = 0\n",
    "    done = False\n",
    "    while not done:\n",
    "        env.render()\n",
    "        sleep(0.01)\n",
    "        action = env.action_space.sample()\n",
    "        state_, reward, done, _ = env.step(action)\n",
    "        score += reward\n",
    "        state = state_\n",
    "    print(f'Episode {i} | Score: {score}')\n",
    "env.close()"
   ]
  },
  {
   "cell_type": "markdown",
   "metadata": {},
   "source": [
    "## Building the REINFORCE Model\n",
    "The ANN takes a state as input and outputs a probability distribution over actions given the state (a policy)"
   ]
  },
  {
   "cell_type": "code",
   "execution_count": 4,
   "metadata": {},
   "outputs": [],
   "source": [
    "class REINFORCE(nn.Module):\n",
    "    def __init__(self, state_size, n_actions, lr, save_path, fc1_dims=128, fc2_dims=128):\n",
    "        super(REINFORCE, self).__init__()\n",
    "        \n",
    "        self.fc1 = nn.Linear(*state_size, fc1_dims)\n",
    "        self.fc2 = nn.Linear(fc1_dims, fc2_dims)\n",
    "        self.fc3 = nn.Linear(fc2_dims, n_actions)\n",
    "        self.optimizer = torch.optim.Adam(self.parameters(), lr=lr)\n",
    "        self.save_path = os.path.join(save_path)\n",
    "    \n",
    "    def save_model_checkpoint(self):\n",
    "        torch.save(self.state_dict(), self.save_path)\n",
    "    \n",
    "    def load_model_checkpoint(self):\n",
    "        print('Loading from ->',self.save_path)\n",
    "        self.load_state_dict(torch.load(self.save_path))\n",
    "    \n",
    "    def forward(self, state):\n",
    "        x = F.relu(self.fc1(state))\n",
    "        x = F.relu(self.fc2(x))\n",
    "        x = self.fc3(x)\n",
    "        prob_actions = F.softmax(x, dim=0)\n",
    "        return prob_actions"
   ]
  },
  {
   "cell_type": "code",
   "execution_count": 5,
   "metadata": {},
   "outputs": [],
   "source": [
    "class Agent:\n",
    "    def __init__(self, trialnum, env, gamma, lr, NN_params):\n",
    "        self.env = env\n",
    "        self.gamma = gamma\n",
    "        self.trajectory_logprob_actions = []\n",
    "        self.trajectory_rewards = []\n",
    "        self.PGNet = REINFORCE(env.observation_space.shape,\n",
    "                               env.action_space.n,\n",
    "                               lr,\n",
    "                               f'checkpoints/REINFORCE/{env.spec.id}_PGNet_trial{trialnum}.pth',\n",
    "                               *NN_params).to(device)\n",
    "        \n",
    "    def choose_action(self, state):\n",
    "        state = torch.tensor(state, dtype=torch.float).to(device)\n",
    "        prob_actions = self.PGNet(state)\n",
    "        cat_actions = dist.Categorical(prob_actions)\n",
    "        action = cat_actions.sample()\n",
    "        log_prob = cat_actions.log_prob(action)\n",
    "        self.trajectory_logprob_actions.append(log_prob)\n",
    "        return action.item()\n",
    "    \n",
    "    def save_reward(self, reward):\n",
    "        self.trajectory_rewards.append(reward)\n",
    "        \n",
    "    def learn(self):\n",
    "        self.PGNet.optimizer.zero_grad()\n",
    "        # G is the array containing the expected return of the trajectory/policy at each timestep of an episode\n",
    "        G = np.zeros_like(self.trajectory_rewards, dtype=np.float64)\n",
    "        for t in range(len(self.trajectory_rewards)):\n",
    "            for j in range(t, len(self.trajectory_rewards)):\n",
    "                G[t] += self.trajectory_rewards[j]*(self.gamma**(j-t))\n",
    "        G_norm = (G-np.mean(G))/np.std(G) if np.std(G) > 0 else (G-np.mean(G)) / 1.0\n",
    "        G_norm = torch.tensor(G_norm, dtype=torch.float).to(device)\n",
    "        loss = 0\n",
    "        for t in range(len(G_norm)):\n",
    "            loss += -G_norm[t]*self.trajectory_logprob_actions[t]\n",
    "        # Gradient ascent here as we maximise the objective function\n",
    "        loss.backward()\n",
    "        self.PGNet.optimizer.step()\n",
    "        self.trajectory_logprob_actions = []\n",
    "        self.trajectory_rewards = []        "
   ]
  },
  {
   "cell_type": "markdown",
   "metadata": {},
   "source": [
    "## Training the Model"
   ]
  },
  {
   "cell_type": "code",
   "execution_count": 6,
   "metadata": {},
   "outputs": [
    {
     "name": "stdout",
     "output_type": "stream",
     "text": [
      "Episode 10 Score: 21.0 Avg Score: 24.70 Best Score: 29.83\n",
      "Episode 20 Score: 10.0 Avg Score: 23.80 Best Score: 29.83\n",
      "Episode 30 Score: 27.0 Avg Score: 24.20 Best Score: 29.83\n",
      "Episode 40 Score: 21.0 Avg Score: 24.20 Best Score: 29.83\n",
      "Episode 50 Score: 19.0 Avg Score: 24.40 Best Score: 29.83\n",
      "Episode 60 Score: 12.0 Avg Score: 26.88 Best Score: 29.83\n",
      "Episode 70 Score: 11.0 Avg Score: 28.86 Best Score: 29.83\n",
      "Episode 80 Score: 18.0 Avg Score: 31.27 Best Score: 31.56\n",
      "Episode 90 Score: 13.0 Avg Score: 32.37 Best Score: 32.66\n",
      "Episode 100 Score: 38.0 Avg Score: 33.58 Best Score: 33.58\n",
      "Episode 110 Score: 36.0 Avg Score: 39.27 Best Score: 39.27\n",
      "Episode 120 Score: 67.0 Avg Score: 45.47 Best Score: 45.47\n",
      "Episode 130 Score: 49.0 Avg Score: 48.20 Best Score: 48.20\n",
      "Episode 140 Score: 80.0 Avg Score: 53.95 Best Score: 53.95\n",
      "Episode 150 Score: 88.0 Avg Score: 61.95 Best Score: 61.95\n",
      "Episode 160 Score: 252.0 Avg Score: 78.18 Best Score: 78.18\n",
      "Episode 170 Score: 272.0 Avg Score: 100.84 Best Score: 100.84\n",
      "Episode 180 Score: 500.0 Avg Score: 125.19 Best Score: 125.19\n",
      "Episode 190 Score: 246.0 Avg Score: 142.19 Best Score: 142.19\n",
      "Episode 200 Score: 212.0 Avg Score: 148.95 Best Score: 148.95\n",
      "Episode 210 Score: 148.0 Avg Score: 154.59 Best Score: 154.59\n",
      "Episode 220 Score: 500.0 Avg Score: 180.94 Best Score: 180.94\n",
      "Episode 230 Score: 414.0 Avg Score: 217.04 Best Score: 217.04\n",
      "Episode 240 Score: 500.0 Avg Score: 254.01 Best Score: 254.01\n",
      "Episode 250 Score: 500.0 Avg Score: 288.26 Best Score: 288.26\n",
      "Episode 260 Score: 500.0 Avg Score: 308.13 Best Score: 308.13\n",
      "Episode 270 Score: 500.0 Avg Score: 328.87 Best Score: 328.87\n",
      "Episode 280 Score: 169.0 Avg Score: 326.01 Best Score: 335.10\n",
      "Episode 290 Score: 500.0 Avg Score: 332.32 Best Score: 335.10\n",
      "Episode 300 Score: 500.0 Avg Score: 367.85 Best Score: 367.85\n",
      "Episode 310 Score: 397.0 Avg Score: 395.36 Best Score: 395.36\n",
      "Episode 320 Score: 500.0 Avg Score: 401.37 Best Score: 402.98\n",
      "Episode 330 Score: 500.0 Avg Score: 403.88 Best Score: 407.20\n",
      "Episode 340 Score: 500.0 Avg Score: 406.18 Best Score: 407.20\n",
      "Episode 350 Score: 353.0 Avg Score: 397.33 Best Score: 407.20\n",
      "Episode 360 Score: 236.0 Avg Score: 387.88 Best Score: 407.20\n",
      "Episode 370 Score: 500.0 Avg Score: 378.31 Best Score: 407.20\n",
      "Episode 380 Score: 469.0 Avg Score: 396.26 Best Score: 407.20\n",
      "Episode 390 Score: 203.0 Avg Score: 391.60 Best Score: 407.20\n",
      "Episode 400 Score: 145.0 Avg Score: 356.98 Best Score: 407.20\n",
      "Episode 410 Score: 157.0 Avg Score: 327.24 Best Score: 407.20\n",
      "Episode 420 Score: 288.0 Avg Score: 309.64 Best Score: 407.20\n",
      "Episode 430 Score: 500.0 Avg Score: 307.62 Best Score: 407.20\n",
      "Episode 440 Score: 500.0 Avg Score: 310.18 Best Score: 407.20\n",
      "Episode 450 Score: 500.0 Avg Score: 324.26 Best Score: 407.20\n",
      "Episode 460 Score: 266.0 Avg Score: 331.02 Best Score: 407.20\n",
      "Episode 470 Score: 228.0 Avg Score: 315.58 Best Score: 407.20\n",
      "Episode 480 Score: 163.0 Avg Score: 289.71 Best Score: 407.20\n",
      "Episode 490 Score: 112.0 Avg Score: 280.26 Best Score: 407.20\n",
      "Episode 500 Score: 68.0 Avg Score: 277.87 Best Score: 407.20\n",
      "Episode 510 Score: 89.0 Avg Score: 274.36 Best Score: 407.20\n",
      "Episode 520 Score: 83.0 Avg Score: 259.07 Best Score: 407.20\n",
      "Episode 530 Score: 102.0 Avg Score: 226.14 Best Score: 407.20\n",
      "Episode 540 Score: 86.0 Avg Score: 187.38 Best Score: 407.20\n",
      "Episode 550 Score: 91.0 Avg Score: 147.34 Best Score: 407.20\n",
      "Episode 560 Score: 104.0 Avg Score: 119.01 Best Score: 407.20\n",
      "Episode 570 Score: 90.0 Avg Score: 106.12 Best Score: 407.20\n",
      "Episode 580 Score: 125.0 Avg Score: 98.05 Best Score: 407.20\n",
      "Episode 590 Score: 288.0 Avg Score: 101.78 Best Score: 407.20\n",
      "Episode 600 Score: 347.0 Avg Score: 116.65 Best Score: 407.20\n",
      "Episode 610 Score: 500.0 Avg Score: 148.23 Best Score: 407.20\n",
      "Episode 620 Score: 500.0 Avg Score: 190.27 Best Score: 407.20\n",
      "Episode 630 Score: 500.0 Avg Score: 231.38 Best Score: 407.20\n",
      "Episode 640 Score: 500.0 Avg Score: 266.99 Best Score: 407.20\n",
      "Episode 650 Score: 500.0 Avg Score: 306.39 Best Score: 407.20\n",
      "Episode 660 Score: 500.0 Avg Score: 347.38 Best Score: 407.20\n",
      "Episode 670 Score: 500.0 Avg Score: 387.81 Best Score: 407.20\n",
      "Episode 680 Score: 500.0 Avg Score: 427.49 Best Score: 427.49\n",
      "Episode 690 Score: 330.0 Avg Score: 458.75 Best Score: 458.75\n",
      "Env solved in 696 episodes -> 475.28\n",
      "CPU times: user 2min 57s, sys: 492 ms, total: 2min 58s\n",
      "Wall time: 2min 58s\n"
     ]
    }
   ],
   "source": [
    "%%time\n",
    "env = gym.make('CartPole-v1')\n",
    "trialnum = 1\n",
    "# Hyperparameters\n",
    "hps = {\n",
    "    'gamma':0.99,\n",
    "    'lr':0.001,\n",
    "    'fc1_dims':128,\n",
    "    'fc2_dims':128,\n",
    "}\n",
    "agent = Agent(\n",
    "    trialnum = trialnum,\n",
    "    env=env,\n",
    "    gamma=hps['gamma'], \n",
    "    lr=hps['lr'],\n",
    "    NN_params=(hps['fc1_dims'], hps['fc2_dims']), \n",
    ")\n",
    "best_score = -np.inf\n",
    "best_reached_at = -1\n",
    "scores, avg_scores = [], []\n",
    "N = 1000\n",
    "for i in range(N):\n",
    "    state = env.reset()\n",
    "    score = 0\n",
    "    done = False\n",
    "    while not done:\n",
    "        action = agent.choose_action(state)\n",
    "        state_, reward, done, _ = env.step(action)\n",
    "#         if (i+1) % 50 == 0:\n",
    "#             env.render()\n",
    "#             sleep(0.01)\n",
    "        agent.save_reward(reward)\n",
    "        score += reward\n",
    "        state = state_\n",
    "    agent.learn()\n",
    "    scores.append(score)\n",
    "    avg_score = np.mean(scores[-100:])\n",
    "    avg_scores.append(avg_score)\n",
    "    if avg_score > best_score:\n",
    "        best_score = avg_score\n",
    "        best_reached_at = i+1\n",
    "        agent.PGNet.save_model_checkpoint()\n",
    "    if avg_score >= 475:\n",
    "        print(f\"Env solved in {i+1} episodes -> {avg_score}\")\n",
    "        break\n",
    "    if (i+1) % 10 == 0:\n",
    "        print(f'Episode {i+1} Score: {round(score, 2)} Avg Score: {avg_score:.2f}',\n",
    "              f'Best Score: {best_score:.2f}')\n",
    "env.close()"
   ]
  },
  {
   "cell_type": "markdown",
   "metadata": {},
   "source": [
    "### Storing the results and hyperparameters"
   ]
  },
  {
   "cell_type": "code",
   "execution_count": 7,
   "metadata": {},
   "outputs": [],
   "source": [
    "agent_dict = {'Algorithm':'REINFORCE', 'Trial':trialnum, 'Best Score':best_score, \n",
    "              'Best at':best_reached_at, 'Trained till':len(scores), 'hyperparams':hps}\n",
    "os.chdir(os.path.join(os.getcwd(), 'History'))\n",
    "with open(f'{env.spec.id}_history.txt', 'a+') as file:\n",
    "    file.write(f'{agent_dict}\\n\\n')\n",
    "os.chdir('../')"
   ]
  },
  {
   "cell_type": "markdown",
   "metadata": {},
   "source": [
    "## Plotting Scores"
   ]
  },
  {
   "cell_type": "code",
   "execution_count": 8,
   "metadata": {},
   "outputs": [
    {
     "data": {
      "image/png": "[encoded data removed]",
      "text/plain": [
       "<Figure size 792x360 with 2 Axes>"
      ]
     },
     "metadata": {
      "needs_background": "light"
     },
     "output_type": "display_data"
    }
   ],
   "source": [
    "def plot_graph(x, avg_scores, scores, figpath):\n",
    "    fig = plt.figure(figsize=(11, 5))\n",
    "    fig.suptitle(f'{env.spec.id} Trial{trialnum}')\n",
    "    fig.supxlabel(\"Episodes\")\n",
    "    \n",
    "    ax = fig.add_subplot(121)\n",
    "    ax2 = fig.add_subplot(122)\n",
    "\n",
    "    ax.plot(x, scores, color='#1f77b4')\n",
    "    ax.set_ylabel(\"Score\")\n",
    "\n",
    "    ax2.plot(x, avg_scores, color='#3a3fcf')\n",
    "    ax2.yaxis.tick_right()\n",
    "    ax2.set_ylabel('Avg Score')\n",
    "    ax2.yaxis.set_label_position('right')\n",
    "    \n",
    "    plt.savefig(figpath, facecolor='white', transparent=False)\n",
    "\n",
    "\n",
    "episode_indices = np.arange(1, len(scores)+1) \n",
    "figpath = f'graphs/REINFORCE/{env.spec.id}_trial{trialnum}.png'\n",
    "\n",
    "plot_graph(episode_indices, avg_scores, scores, figpath)"
   ]
  },
  {
   "cell_type": "markdown",
   "metadata": {},
   "source": [
    "## Testing the Model"
   ]
  },
  {
   "cell_type": "code",
   "execution_count": 9,
   "metadata": {},
   "outputs": [
    {
     "name": "stdout",
     "output_type": "stream",
     "text": [
      "Loading from -> checkpoints/REINFORCE/CartPole-v1_PGNet_trial1.pth\n",
      "\n",
      " 500.0 \n",
      "\n",
      "\n",
      " 500.0 \n",
      "\n",
      "\n",
      " 500.0 \n",
      "\n",
      "\n",
      " 500.0 \n",
      "\n",
      "\n",
      " 500.0 \n",
      "\n"
     ]
    }
   ],
   "source": [
    "env = gym.make('CartPole-v1')\n",
    "trialnum = 1\n",
    "# Hyperparameters\n",
    "hps = {\n",
    "    'gamma':0.99,\n",
    "    'lr':0.001,\n",
    "    'fc1_dims':128,\n",
    "    'fc2_dims':128,\n",
    "}\n",
    "agent = Agent(\n",
    "    trialnum = trialnum,\n",
    "    env=env,\n",
    "    gamma=hps['gamma'], \n",
    "    lr=hps['lr'],\n",
    "    NN_params=(hps['fc1_dims'], hps['fc2_dims']), \n",
    ")\n",
    "agent.PGNet.load_model_checkpoint()\n",
    "\n",
    "for i in range(5):\n",
    "    done = False\n",
    "    score = 0\n",
    "    state = env.reset()\n",
    "    while not done:\n",
    "        env.render()\n",
    "        sleep(0.01)\n",
    "        action = agent.choose_action(state)\n",
    "        state_, reward, done, _ = env.step(action)\n",
    "        score += reward\n",
    "        state = state_\n",
    "    print('\\n',score,'\\n')\n",
    "env.close()"
   ]
  }
 ],
 "metadata": {
  "kernelspec": {
   "display_name": "Python 3",
   "language": "python",
   "name": "python3"
  },
  "language_info": {
   "codemirror_mode": {
    "name": "ipython",
    "version": 3
   },
   "file_extension": ".py",
   "mimetype": "text/x-python",
   "name": "python",
   "nbconvert_exporter": "python",
   "pygments_lexer": "ipython3",
   "version": "3.7.6"
  }
 },
 "nbformat": 4,
 "nbformat_minor": 4
}
