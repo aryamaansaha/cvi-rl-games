{
 "cells": [
  {
   "cell_type": "markdown",
   "metadata": {},
   "source": [
    "# Clipped Double Deep Q-Learning"
   ]
  },
  {
   "cell_type": "code",
   "execution_count": 1,
   "metadata": {},
   "outputs": [
    {
     "name": "stdout",
     "output_type": "stream",
     "text": [
      "Using cuda:0\n"
     ]
    }
   ],
   "source": [
    "import gym\n",
    "import os\n",
    "from collections import deque, namedtuple\n",
    "import numpy as np\n",
    "import pandas as pd\n",
    "import matplotlib.pyplot as plt\n",
    "import random\n",
    "import torch\n",
    "import torch.nn as nn\n",
    "import torch.nn.functional as F\n",
    "from time import sleep\n",
    "\n",
    "device = torch.device(\"cuda:0\" if torch.cuda.is_available() else \"cpu\")\n",
    "print(\"Using\", device)"
   ]
  },
  {
   "cell_type": "markdown",
   "metadata": {},
   "source": [
    "### Untrained agent without Reinforcement Learning"
   ]
  },
  {
   "cell_type": "code",
   "execution_count": 2,
   "metadata": {},
   "outputs": [
    {
     "name": "stdout",
     "output_type": "stream",
     "text": [
      "Box(-28.274333953857422, 28.274333953857422, (6,), float32)\n",
      "Discrete(3)\n"
     ]
    }
   ],
   "source": [
    "env = gym.make('Acrobot-v1')\n",
    "print(env.observation_space)\n",
    "print(env.action_space)"
   ]
  },
  {
   "cell_type": "code",
   "execution_count": 3,
   "metadata": {},
   "outputs": [
    {
     "name": "stdout",
     "output_type": "stream",
     "text": [
      "Episode 0 | Score: -500.0\n",
      "Episode 1 | Score: -500.0\n",
      "Episode 2 | Score: -500.0\n",
      "Episode 3 | Score: -500.0\n",
      "Episode 4 | Score: -442.0\n"
     ]
    }
   ],
   "source": [
    "for i in range(5):\n",
    "    state = env.reset()\n",
    "    score = 0\n",
    "    done = False\n",
    "    while not done:\n",
    "        env.render()\n",
    "        sleep(0.01)\n",
    "        action = env.action_space.sample()\n",
    "        state_, reward, done, _ = env.step(action)\n",
    "        score += reward\n",
    "        state = state_\n",
    "    print(f'Episode {i} | Score: {score}')\n",
    "env.close()"
   ]
  },
  {
   "cell_type": "markdown",
   "metadata": {},
   "source": [
    "## Building the Clipped Double Deep Q Network"
   ]
  },
  {
   "cell_type": "markdown",
   "metadata": {},
   "source": [
    "The Artificial Neural Network (ANN) takes states as input and outputs Q values of the actions"
   ]
  },
  {
   "cell_type": "code",
   "execution_count": 4,
   "metadata": {},
   "outputs": [],
   "source": [
    "class ClippedDoubleDQN(nn.Module):\n",
    "    def __init__(self, state_size, n_actions, lr, save_path, fc1_dims=64, fc2_dims=128):\n",
    "        super(ClippedDoubleDQN, self).__init__()\n",
    "\n",
    "        self.fc1 = nn.Linear(state_size[0], fc1_dims)\n",
    "        self.fc2 = nn.Linear(fc1_dims, fc2_dims)\n",
    "        self.fc3 = nn.Linear(fc2_dims, n_actions)\n",
    "        \n",
    "        self.optimizer = torch.optim.Adam(self.parameters(), lr=lr)\n",
    "        self.loss_fn = nn.MSELoss()\n",
    "        self.save_path = os.path.join(save_path)\n",
    "    def save_model_checkpoint(self):\n",
    "        torch.save(self.state_dict(), self.save_path)\n",
    "    \n",
    "    def load_model_checkpoint(self):\n",
    "        print('Loading from ->',self.save_path)\n",
    "        self.load_state_dict(torch.load(self.save_path))\n",
    "        \n",
    "    def forward(self, state):\n",
    "        x = F.relu(self.fc1(state))\n",
    "        x = F.relu(self.fc2(x))\n",
    "        Qvalues_actions = self.fc3(x)\n",
    "        return Qvalues_actions"
   ]
  },
  {
   "cell_type": "markdown",
   "metadata": {},
   "source": [
    "A Replay Memory stores every experience tuple (s, a, r, s', d) the agent encounters"
   ]
  },
  {
   "cell_type": "code",
   "execution_count": 5,
   "metadata": {},
   "outputs": [],
   "source": [
    "class ReplayMemory:\n",
    "    def __init__(self, max_size, batch_size):\n",
    "        self.deck = deque(maxlen=max_size)\n",
    "        self.experience = namedtuple(\"Experience\", field_names=[\"state\", \"action\", \"reward\", \"state_\", \"done\"])\n",
    "        self.batch_size = batch_size\n",
    "    def save_experience(self, state, action, reward, state_, done):\n",
    "        self.deck.append(self.experience(state, action, reward, state_, done))\n",
    "    def sample(self):\n",
    "        experiences = random.sample(self.deck, self.batch_size)\n",
    "        states = torch.from_numpy(np.vstack(\n",
    "                [xp.state for xp in experiences if xp is not None])).float().to(device)\n",
    "        actions = torch.from_numpy(np.vstack(\n",
    "                [xp.action for xp in experiences if xp is not None])).long().to(device)\n",
    "        rewards = torch.from_numpy(np.vstack(\n",
    "                [xp.reward for xp in experiences if xp is not None])).float().to(device)\n",
    "        states_ = torch.from_numpy(np.vstack(\n",
    "                [xp.state_ for xp in experiences if xp is not None])).float().to(device)\n",
    "        dones = torch.from_numpy(np.vstack(\n",
    "                [xp.done for xp in experiences if xp is not None]).astype(np.uint8)).to(device)\n",
    "        \n",
    "        return states, actions, rewards, states_, dones"
   ]
  },
  {
   "cell_type": "markdown",
   "metadata": {},
   "source": [
    "An Agent class containing an ANN and Replay Memory plays the game"
   ]
  },
  {
   "cell_type": "code",
   "execution_count": 6,
   "metadata": {},
   "outputs": [],
   "source": [
    "class Agent:\n",
    "    def __init__(self, trialnum, env, gamma, lr, epsilon_dec_params, NN_params, memory_params):\n",
    "        self.env = env\n",
    "        self.epsilon = epsilon_dec_params[0]\n",
    "        self.gamma = gamma\n",
    "        self.epsilon_min = epsilon_dec_params[1]\n",
    "        self.epsilon_rate = epsilon_dec_params[2]\n",
    "        self.memory = ReplayMemory(*memory_params)\n",
    "        self.Net1 = ClippedDoubleDQN(env.observation_space.shape, \n",
    "                             env.action_space.n, \n",
    "                             lr, \n",
    "                             f'checkpoints/ClippedDoubleDQN/{env.spec.id}_PolicyNet_trial{trialnum}.pth', \n",
    "                             *NN_params).to(device)\n",
    "        self.Net2 = ClippedDoubleDQN(env.observation_space.shape, \n",
    "                             env.action_space.n, \n",
    "                             lr, \n",
    "                             f'checkpoints/ClippedDoubleDQN/{env.spec.id}_TargetNet_trial{trialnum}.pth', \n",
    "                             *NN_params).to(device)\n",
    "        self.learn_counter = 0\n",
    "        \n",
    "    def choose_action(self, state):\n",
    "        if random.uniform(0, 1) < self.epsilon:\n",
    "            action = self.env.action_space.sample()\n",
    "        else:\n",
    "            state = torch.tensor(state, dtype=torch.float).view(1, -1).to(device) # Output Size is (1, state_size)\n",
    "            self.Net1.eval() # sets to evaluation mode (things like dropout gets deactivated)\n",
    "            with torch.no_grad():\n",
    "                Qvalues_actions = self.Net1(state) # Output Size is (1, n_actions)\n",
    "            self.Net1.train() # sets to training mode (doesn't actually train!)\n",
    "            action = torch.argmax(Qvalues_actions).item() # Output Size is 1\n",
    "        return action\n",
    "    \n",
    "    def decrease_epsilon(self):\n",
    "        self.epsilon = self.epsilon - self.epsilon_rate if self.epsilon > self.epsilon_min else self.epsilon_min\n",
    "            \n",
    "    def learn(self):\n",
    "        if len(self.memory.deck) < self.memory.batch_size:\n",
    "            return None\n",
    "        \n",
    "        self.Net1.optimizer.zero_grad()\n",
    "        self.Net2.optimizer.zero_grad()\n",
    "        experiences = self.memory.sample()\n",
    "        states, actions, rewards, states_, dones = experiences\n",
    "        # Q values of a batch of actions that the agent took in the past\n",
    "        Q_cur1 = self.Net1(states).gather(1, actions).squeeze()\n",
    "        Q_cur2 = self.Net2(states).gather(1, actions).squeeze()\n",
    "        # Get max predicted Q values (for next states) from target model\n",
    "        Q_next1 = self.Net1(states_).max(dim=1)[0].detach()\n",
    "        Q_next2 = self.Net2(states_).max(dim=1)[0].detach()\n",
    "        Q_next_min = torch.min(Q_next1, Q_next2)\n",
    "        Q_next_min[dones.squeeze()] = 0.0\n",
    "        Q_target = rewards.squeeze() + self.gamma*Q_next_min\n",
    "        # Be wary of dimensions of the loss_fn input, they must match\n",
    "        loss1 = self.Net1.loss_fn(Q_cur1, Q_target).to(device)\n",
    "        loss2 = self.Net2.loss_fn(Q_cur2, Q_target).to(device)\n",
    "        loss1.backward()\n",
    "        self.Net1.optimizer.step()\n",
    "        loss2.backward()\n",
    "        self.Net1.optimizer.step()\n",
    "\n",
    "        self.learn_counter += 1"
   ]
  },
  {
   "cell_type": "markdown",
   "metadata": {},
   "source": [
    "## Training the Model"
   ]
  },
  {
   "cell_type": "code",
   "execution_count": 7,
   "metadata": {},
   "outputs": [
    {
     "name": "stderr",
     "output_type": "stream",
     "text": [
      "/home/aryamaansaha/anaconda3/lib/python3.7/site-packages/ipykernel_launcher.py:51: UserWarning: masked_fill_ received a mask with dtype torch.uint8, this behavior is now deprecated,please use a mask with dtype torch.bool instead. (Triggered internally at  /opt/conda/conda-bld/pytorch_1646755861072/work/aten/src/ATen/native/cuda/Indexing.cu:967.)\n"
     ]
    },
    {
     "name": "stdout",
     "output_type": "stream",
     "text": [
      "Episode 10 Score: -500.0 Avg Score: -500.00 Best Score: -500.00 Eps: 0.75\n",
      "Episode 20 Score: -252.0 Avg Score: -404.25 Best Score: -404.25 Eps: 0.595\n",
      "Episode 30 Score: -217.0 Avg Score: -336.37 Best Score: -336.37 Eps: 0.494\n",
      "Episode 40 Score: -219.0 Avg Score: -296.43 Best Score: -296.43 Eps: 0.406\n",
      "Episode 50 Score: -166.0 Avg Score: -269.00 Best Score: -269.00 Eps: 0.326\n",
      "Episode 60 Score: -122.0 Avg Score: -247.52 Best Score: -247.52 Eps: 0.255\n",
      "Episode 70 Score: -111.0 Avg Score: -231.26 Best Score: -231.26 Eps: 0.188\n",
      "Episode 80 Score: -114.0 Avg Score: -220.03 Best Score: -220.03 Eps: 0.116\n",
      "Episode 90 Score: -88.0 Avg Score: -207.08 Best Score: -207.08 Eps: 0.064\n",
      "Episode 100 Score: -86.0 Avg Score: -197.59 Best Score: -197.59 Eps: 0.01\n",
      "Episode 110 Score: -77.0 Avg Score: -157.95 Best Score: -157.95 Eps: 0.01\n",
      "Episode 120 Score: -98.0 Avg Score: -137.28 Best Score: -137.28 Eps: 0.01\n",
      "Episode 130 Score: -83.0 Avg Score: -127.38 Best Score: -127.38 Eps: 0.01\n",
      "Episode 140 Score: -79.0 Avg Score: -120.05 Best Score: -120.05 Eps: 0.01\n",
      "Episode 150 Score: -138.0 Avg Score: -117.19 Best Score: -117.19 Eps: 0.01\n",
      "Episode 160 Score: -175.0 Avg Score: -115.17 Best Score: -114.64 Eps: 0.01\n",
      "Episode 170 Score: -76.0 Avg Score: -111.95 Best Score: -111.95 Eps: 0.01\n",
      "Episode 180 Score: -123.0 Avg Score: -108.16 Best Score: -108.07 Eps: 0.01\n",
      "Episode 190 Score: -124.0 Avg Score: -108.89 Best Score: -108.07 Eps: 0.01\n",
      "Episode 200 Score: -118.0 Avg Score: -109.48 Best Score: -108.07 Eps: 0.01\n",
      "Episode 210 Score: -93.0 Avg Score: -109.36 Best Score: -108.07 Eps: 0.01\n",
      "Episode 220 Score: -131.0 Avg Score: -109.41 Best Score: -108.07 Eps: 0.01\n",
      "Episode 230 Score: -102.0 Avg Score: -110.95 Best Score: -108.07 Eps: 0.01\n",
      "Episode 240 Score: -74.0 Avg Score: -112.33 Best Score: -108.07 Eps: 0.01\n",
      "Episode 250 Score: -109.0 Avg Score: -107.59 Best Score: -107.59 Eps: 0.01\n",
      "Episode 260 Score: -135.0 Avg Score: -105.86 Best Score: -105.86 Eps: 0.01\n",
      "Episode 270 Score: -181.0 Avg Score: -106.78 Best Score: -105.13 Eps: 0.01\n",
      "Episode 280 Score: -81.0 Avg Score: -106.36 Best Score: -105.13 Eps: 0.01\n",
      "Episode 290 Score: -152.0 Avg Score: -111.81 Best Score: -105.13 Eps: 0.01\n",
      "Episode 300 Score: -105.0 Avg Score: -111.02 Best Score: -105.13 Eps: 0.01\n",
      "Episode 310 Score: -92.0 Avg Score: -110.60 Best Score: -105.13 Eps: 0.01\n",
      "Episode 320 Score: -73.0 Avg Score: -109.75 Best Score: -105.13 Eps: 0.01\n",
      "Episode 330 Score: -99.0 Avg Score: -108.32 Best Score: -105.13 Eps: 0.01\n",
      "Episode 340 Score: -117.0 Avg Score: -106.25 Best Score: -105.13 Eps: 0.01\n",
      "Episode 350 Score: -91.0 Avg Score: -107.01 Best Score: -105.13 Eps: 0.01\n",
      "Episode 360 Score: -131.0 Avg Score: -106.82 Best Score: -105.13 Eps: 0.01\n",
      "Episode 370 Score: -99.0 Avg Score: -105.72 Best Score: -105.13 Eps: 0.01\n",
      "Episode 380 Score: -131.0 Avg Score: -107.50 Best Score: -105.13 Eps: 0.01\n",
      "Episode 390 Score: -75.0 Avg Score: -100.55 Best Score: -100.55 Eps: 0.01\n",
      "Episode 400 Score: -141.0 Avg Score: -101.11 Best Score: -100.33 Eps: 0.01\n",
      "Episode 410 Score: -70.0 Avg Score: -101.17 Best Score: -100.33 Eps: 0.01\n",
      "Episode 420 Score: -169.0 Avg Score: -104.14 Best Score: -100.33 Eps: 0.01\n",
      "Episode 430 Score: -72.0 Avg Score: -102.96 Best Score: -100.33 Eps: 0.01\n",
      "Episode 440 Score: -99.0 Avg Score: -102.81 Best Score: -100.33 Eps: 0.01\n",
      "Episode 450 Score: -76.0 Avg Score: -103.29 Best Score: -100.33 Eps: 0.01\n",
      "Episode 460 Score: -95.0 Avg Score: -101.75 Best Score: -100.33 Eps: 0.01\n",
      "Episode 470 Score: -85.0 Avg Score: -100.14 Best Score: -100.14 Eps: 0.01\n",
      "Episode 480 Score: -89.0 Avg Score: -98.02 Best Score: -98.02 Eps: 0.01\n",
      "Episode 490 Score: -97.0 Avg Score: -97.91 Best Score: -97.10 Eps: 0.01\n",
      "Episode 500 Score: -79.0 Avg Score: -96.67 Best Score: -96.67 Eps: 0.01\n",
      "Episode 510 Score: -92.0 Avg Score: -96.45 Best Score: -96.07 Eps: 0.01\n",
      "Episode 520 Score: -124.0 Avg Score: -95.24 Best Score: -95.24 Eps: 0.01\n",
      "Episode 530 Score: -100.0 Avg Score: -96.00 Best Score: -94.91 Eps: 0.01\n",
      "Episode 540 Score: -107.0 Avg Score: -96.77 Best Score: -94.91 Eps: 0.01\n",
      "Episode 550 Score: -85.0 Avg Score: -97.91 Best Score: -94.91 Eps: 0.01\n",
      "Episode 560 Score: -123.0 Avg Score: -98.67 Best Score: -94.91 Eps: 0.01\n",
      "Episode 570 Score: -78.0 Avg Score: -100.57 Best Score: -94.91 Eps: 0.01\n",
      "Episode 580 Score: -95.0 Avg Score: -99.49 Best Score: -94.91 Eps: 0.01\n",
      "Episode 590 Score: -138.0 Avg Score: -99.13 Best Score: -94.91 Eps: 0.01\n",
      "Episode 600 Score: -88.0 Avg Score: -97.28 Best Score: -94.91 Eps: 0.01\n",
      "Episode 610 Score: -89.0 Avg Score: -97.18 Best Score: -94.91 Eps: 0.01\n",
      "Episode 620 Score: -100.0 Avg Score: -95.14 Best Score: -94.91 Eps: 0.01\n",
      "Episode 630 Score: -64.0 Avg Score: -94.15 Best Score: -94.09 Eps: 0.01\n",
      "Episode 640 Score: -69.0 Avg Score: -92.19 Best Score: -92.19 Eps: 0.01\n",
      "Episode 650 Score: -101.0 Avg Score: -92.83 Best Score: -92.19 Eps: 0.01\n",
      "Episode 660 Score: -76.0 Avg Score: -94.60 Best Score: -92.19 Eps: 0.01\n",
      "Episode 670 Score: -87.0 Avg Score: -93.36 Best Score: -92.19 Eps: 0.01\n",
      "Episode 680 Score: -95.0 Avg Score: -93.97 Best Score: -92.19 Eps: 0.01\n",
      "Episode 690 Score: -70.0 Avg Score: -94.89 Best Score: -92.19 Eps: 0.01\n",
      "Episode 700 Score: -84.0 Avg Score: -96.50 Best Score: -92.19 Eps: 0.01\n",
      "Episode 710 Score: -102.0 Avg Score: -95.97 Best Score: -92.19 Eps: 0.01\n",
      "Episode 720 Score: -104.0 Avg Score: -96.27 Best Score: -92.19 Eps: 0.01\n",
      "Episode 730 Score: -69.0 Avg Score: -96.45 Best Score: -92.19 Eps: 0.01\n",
      "Episode 740 Score: -69.0 Avg Score: -96.76 Best Score: -92.19 Eps: 0.01\n",
      "Episode 750 Score: -84.0 Avg Score: -94.74 Best Score: -92.19 Eps: 0.01\n",
      "Episode 760 Score: -96.0 Avg Score: -93.12 Best Score: -92.19 Eps: 0.01\n",
      "Episode 770 Score: -84.0 Avg Score: -94.22 Best Score: -92.19 Eps: 0.01\n",
      "Episode 780 Score: -69.0 Avg Score: -93.59 Best Score: -92.19 Eps: 0.01\n",
      "Episode 790 Score: -85.0 Avg Score: -92.08 Best Score: -91.67 Eps: 0.01\n",
      "Episode 800 Score: -166.0 Avg Score: -92.76 Best Score: -91.67 Eps: 0.01\n",
      "Episode 810 Score: -107.0 Avg Score: -92.36 Best Score: -91.67 Eps: 0.01\n",
      "Episode 820 Score: -93.0 Avg Score: -91.66 Best Score: -91.61 Eps: 0.01\n",
      "Episode 830 Score: -79.0 Avg Score: -93.30 Best Score: -91.61 Eps: 0.01\n",
      "Episode 840 Score: -86.0 Avg Score: -93.50 Best Score: -91.61 Eps: 0.01\n",
      "Episode 850 Score: -121.0 Avg Score: -94.16 Best Score: -91.61 Eps: 0.01\n",
      "Episode 860 Score: -62.0 Avg Score: -92.83 Best Score: -91.61 Eps: 0.01\n",
      "Episode 870 Score: -79.0 Avg Score: -91.11 Best Score: -91.11 Eps: 0.01\n",
      "Episode 880 Score: -70.0 Avg Score: -90.95 Best Score: -90.85 Eps: 0.01\n",
      "Episode 890 Score: -75.0 Avg Score: -89.75 Best Score: -89.75 Eps: 0.01\n",
      "Episode 900 Score: -119.0 Avg Score: -88.11 Best Score: -87.99 Eps: 0.01\n",
      "Episode 910 Score: -78.0 Avg Score: -87.46 Best Score: -87.46 Eps: 0.01\n",
      "Episode 920 Score: -78.0 Avg Score: -86.33 Best Score: -86.33 Eps: 0.01\n",
      "Episode 930 Score: -113.0 Avg Score: -84.64 Best Score: -84.30 Eps: 0.01\n",
      "Episode 940 Score: -81.0 Avg Score: -84.05 Best Score: -83.98 Eps: 0.01\n",
      "Episode 950 Score: -114.0 Avg Score: -83.75 Best Score: -82.13 Eps: 0.01\n",
      "Episode 960 Score: -76.0 Avg Score: -83.39 Best Score: -82.13 Eps: 0.01\n",
      "Episode 970 Score: -91.0 Avg Score: -82.92 Best Score: -82.13 Eps: 0.01\n",
      "Episode 980 Score: -85.0 Avg Score: -82.50 Best Score: -82.13 Eps: 0.01\n",
      "Episode 990 Score: -107.0 Avg Score: -85.95 Best Score: -82.13 Eps: 0.01\n",
      "Episode 1000 Score: -112.0 Avg Score: -85.05 Best Score: -82.13 Eps: 0.01\n",
      "CPU times: user 6min 16s, sys: 4.86 s, total: 6min 21s\n",
      "Wall time: 6min 20s\n"
     ]
    }
   ],
   "source": [
    "%%time\n",
    "env = gym.make('Acrobot-v1')\n",
    "trialnum = 2\n",
    "# Hyperparameters\n",
    "hps = {\n",
    "    'gamma':0.99,\n",
    "    'lr':0.001,\n",
    "    'epsilon_init':1,\n",
    "    'epsilon_min':1e-2,\n",
    "    'epsilon_rate':5e-5,\n",
    "    'fc1_dims':256,\n",
    "    'fc2_dims':512,\n",
    "    'max_size':10000,\n",
    "    'batch_size':64\n",
    "}\n",
    "agent = Agent(\n",
    "    trialnum = trialnum,\n",
    "    env=env,\n",
    "    gamma=hps['gamma'], \n",
    "    lr=hps['lr'],\n",
    "    epsilon_dec_params = (hps['epsilon_init'], hps['epsilon_min'], hps['epsilon_rate']),\n",
    "    NN_params=(hps['fc1_dims'], hps['fc2_dims']), \n",
    "    memory_params=(hps['max_size'], hps['batch_size'])\n",
    ")\n",
    "best_score = -np.inf\n",
    "best_reached_at = -1\n",
    "scores, avg_scores = [], []\n",
    "N = 1000\n",
    "for i in range(N):\n",
    "    state = env.reset()\n",
    "    score = 0\n",
    "    done = False\n",
    "    t = 0\n",
    "    while not done:\n",
    "        action = agent.choose_action(state)\n",
    "        state_, reward, done, _ = env.step(action)\n",
    "#         if (i+1) % 50 == 0:\n",
    "#             env.render()\n",
    "#             sleep(0.01)\n",
    "        score += reward\n",
    "        agent.memory.save_experience(state, action, reward, state_, done)\n",
    "        agent.learn()\n",
    "        agent.decrease_epsilon()\n",
    "        state = state_\n",
    "        t += 1\n",
    "    scores.append(score)\n",
    "    avg_score = np.mean(scores[-100:])\n",
    "    avg_scores.append(avg_score)\n",
    "    if avg_score > best_score:\n",
    "        best_score = avg_score\n",
    "        best_reached_at = i+1\n",
    "        agent.Net1.save_model_checkpoint()\n",
    "        agent.Net2.save_model_checkpoint()\n",
    "        \n",
    "#     if avg_score >= 200:\n",
    "#         print(f\"Env solved in {i+1} episodes -> {avg_score}\")\n",
    "#         break\n",
    "    if (i+1) % 10 == 0:\n",
    "        print(f'Episode {i+1} Score: {round(score, 2)} Avg Score: {avg_score:.2f}',\n",
    "              f'Best Score: {best_score:.2f} Eps: {round(agent.epsilon, 3)}')\n",
    "env.close()"
   ]
  },
  {
   "cell_type": "markdown",
   "metadata": {},
   "source": [
    "### Storing the results and hyperparameters"
   ]
  },
  {
   "cell_type": "code",
   "execution_count": 8,
   "metadata": {},
   "outputs": [],
   "source": [
    "agent_dict = {'Algorithm':'ClippedDoubleDQN', 'Trial':trialnum, 'Best Score':best_score, \n",
    "              'Best at':best_reached_at, 'Trained till':len(scores), 'hyperparams':hps}\n",
    "os.chdir(os.path.join(os.getcwd(), 'History'))\n",
    "with open(f'{env.spec.id}_history.txt', 'a+') as file:\n",
    "    file.write(f'{agent_dict}\\n\\n')\n",
    "os.chdir('../')"
   ]
  },
  {
   "cell_type": "markdown",
   "metadata": {},
   "source": [
    "## Plotting Scores"
   ]
  },
  {
   "cell_type": "code",
   "execution_count": 9,
   "metadata": {},
   "outputs": [
    {
     "data": {
      "image/png": "[encoded data removed]",
      "text/plain": [
       "<Figure size 792x360 with 2 Axes>"
      ]
     },
     "metadata": {
      "needs_background": "light"
     },
     "output_type": "display_data"
    }
   ],
   "source": [
    "def plot_graph(x, avg_scores, scores, figpath):\n",
    "    fig = plt.figure(figsize=(11, 5))\n",
    "    fig.suptitle(f'{env.spec.id} Trial{trialnum}')\n",
    "    fig.supxlabel(\"Episodes\")\n",
    "    \n",
    "    ax = fig.add_subplot(121)\n",
    "    ax2 = fig.add_subplot(122)\n",
    "\n",
    "    ax.plot(x, scores, color='#1f77b4')\n",
    "    ax.set_ylabel(\"Score\")\n",
    "\n",
    "    ax2.plot(x, avg_scores, color='#3a3fcf')\n",
    "    ax2.yaxis.tick_right()\n",
    "    ax2.set_ylabel('Avg Score')\n",
    "    ax2.yaxis.set_label_position('right')\n",
    "    \n",
    "    plt.savefig(figpath, facecolor='white', transparent=False)\n",
    "\n",
    "\n",
    "episode_indices = np.arange(1, len(scores)+1) \n",
    "figpath = f'graphs/ClippedDoubleDQN/{env.spec.id}_trial{trialnum}.png'\n",
    "\n",
    "plot_graph(episode_indices, avg_scores, scores, figpath)"
   ]
  },
  {
   "cell_type": "markdown",
   "metadata": {},
   "source": [
    "## Testing the Model"
   ]
  },
  {
   "cell_type": "markdown",
   "metadata": {},
   "source": [
    "Epsilon is set to 0 while testing, so the agent always chooses the best action"
   ]
  },
  {
   "cell_type": "code",
   "execution_count": 12,
   "metadata": {},
   "outputs": [
    {
     "name": "stdout",
     "output_type": "stream",
     "text": [
      "Note: For testing, make sure Epsilon is ignored \n",
      "\n",
      "Loading from -> checkpoints/ClippedDoubleDQN/Acrobot-v1_PolicyNet_trial2.pth\n",
      "Loading from -> checkpoints/ClippedDoubleDQN/Acrobot-v1_TargetNet_trial2.pth\n",
      "\n",
      " -87.0 \n",
      "\n",
      "\n",
      " -70.0 \n",
      "\n",
      "\n",
      " -62.0 \n",
      "\n",
      "\n",
      " -81.0 \n",
      "\n",
      "\n",
      " -83.0 \n",
      "\n"
     ]
    }
   ],
   "source": [
    "env = gym.make('Acrobot-v1')\n",
    "trialnum = 2\n",
    "# Hyperparameters\n",
    "hps = {\n",
    "    'gamma':0.99,\n",
    "    'lr':0.001,\n",
    "    'epsilon_init':0,\n",
    "    'epsilon_min':1e-2,\n",
    "    'epsilon_rate':5e-5,\n",
    "    'fc1_dims':256,\n",
    "    'fc2_dims':512,\n",
    "    'max_size':10000,\n",
    "    'batch_size':64\n",
    "}\n",
    "print(\"Note: For testing, make sure Epsilon is ignored \\n\")\n",
    "agent = Agent(\n",
    "    trialnum = trialnum,\n",
    "    env=env,\n",
    "    gamma=hps['gamma'], \n",
    "    lr=hps['lr'],\n",
    "    epsilon_dec_params = (hps['epsilon_init'], hps['epsilon_min'], hps['epsilon_rate']),\n",
    "    NN_params=(hps['fc1_dims'], hps['fc2_dims']), \n",
    "    memory_params=(hps['max_size'], hps['batch_size'])\n",
    ")\n",
    "\n",
    "agent.Net1.load_model_checkpoint()\n",
    "agent.Net2.load_model_checkpoint()\n",
    "\n",
    "for i in range(5):\n",
    "    done = False\n",
    "    score = 0\n",
    "    state = env.reset()\n",
    "    while not done:\n",
    "        env.render()\n",
    "        sleep(0.01)\n",
    "        action = agent.choose_action(state)\n",
    "        state_, reward, done, _ = env.step(action)\n",
    "        score += reward\n",
    "        state = state_\n",
    "    print('\\n',score,'\\n')\n",
    "env.close()"
   ]
  }
 ],
 "metadata": {
  "kernelspec": {
   "display_name": "Python 3",
   "language": "python",
   "name": "python3"
  },
  "language_info": {
   "codemirror_mode": {
    "name": "ipython",
    "version": 3
   },
   "file_extension": ".py",
   "mimetype": "text/x-python",
   "name": "python",
   "nbconvert_exporter": "python",
   "pygments_lexer": "ipython3",
   "version": "3.7.6"
  }
 },
 "nbformat": 4,
 "nbformat_minor": 4
}
